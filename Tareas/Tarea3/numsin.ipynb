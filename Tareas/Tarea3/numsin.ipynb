{
 "metadata": {
  "name": "",
  "signature": "sha256:77f0764eb5ca90f2fbd158e479a84a06f9e5ddc090487c2ba0bb5c4bceda4411"
 },
 "nbformat": 3,
 "nbformat_minor": 0,
 "worksheets": [
  {
   "cells": [
    {
     "cell_type": "code",
     "collapsed": false,
     "input": [
      "%pylab inline\n",
      "from scipy.optimize import curve_fit"
     ],
     "language": "python",
     "metadata": {},
     "outputs": [
      {
       "output_type": "stream",
       "stream": "stdout",
       "text": [
        "Populating the interactive namespace from numpy and matplotlib\n"
       ]
      }
     ],
     "prompt_number": 2
    },
    {
     "cell_type": "heading",
     "level": 1,
     "metadata": {},
     "source": [
      "Creaci\u00f3n de la funci\u00f3n recursiva Seno"
     ]
    },
    {
     "cell_type": "code",
     "collapsed": false,
     "input": [
      "#Definir la funci\u00f3n que recibe el X y el N\n",
      "def seno( x , N ):\n",
      "    term = x #Se establece el primer t\u00e9rmino.\n",
      "    suma = x #Se establece el primer valor de la suma.\n",
      "    for i in range(2,N): #Se declara el for que itere desde el segundo t\u00e9rmino hasta N.\n",
      "        actual = ((-term)*(x**2))/((2*i - 1)*(2*i - 2)) #Se define el t\u00e9rmino actual recursivamente.\n",
      "        suma += actual #Se actualiza el valor de la suma.\n",
      "        term = actual #Se actualiza el valor del t\u00e9rmino.\n",
      "    return suma #Se retorna el valor de la suma."
     ],
     "language": "python",
     "metadata": {},
     "outputs": [],
     "prompt_number": 3
    },
    {
     "cell_type": "heading",
     "level": 1,
     "metadata": {},
     "source": [
      "Obtenci\u00f3n de Iteraciones Necesarias"
     ]
    },
    {
     "cell_type": "code",
     "collapsed": false,
     "input": [
      "#Calcular iteraciones necesarias para reducir error a 0.01. \n",
      "#NO EJECUTAR\n",
      "#PARARLO EN CASO DE EJECUCION\n",
      "iteraciones = [] #Se crea el arreglo de iteraciones.\n",
      "y = linspace(0,45,100) #Se crea el linspace especificado.\n",
      "iteracionInicial = 1 #Se establece el valor base de iteraci\u00f3n.\n",
      "i = 0 #Se declara la variable iterante.\n",
      "while (i < 100): #Se establece la condici\u00f3n de iteraci\u00f3n.\n",
      "    if(abs(sin(y[i]) - seno(y[i], iteracionInicial)) < 0.01): #Se establece la condici\u00f3n de \u00e9xito para seguir al siguiente elemento.\n",
      "        iteraciones.append(iteracionInicial) #Se a\u00f1ade la iteraci\u00f3n actual al arreglo.\n",
      "        i += 1 #Se actualiza la variable iterante.\n",
      "    \n",
      "    else: #Se establece el caso de fracaso.\n",
      "        iteracionInicial = iteracionInicial + 1 #Se aumentan las iteraciones a intentar."
     ],
     "language": "python",
     "metadata": {},
     "outputs": [],
     "prompt_number": 26
    },
    {
     "cell_type": "heading",
     "level": 1,
     "metadata": {},
     "source": [
      "Por qu\u00e9 hay dificultades?"
     ]
    },
    {
     "cell_type": "markdown",
     "metadata": {},
     "source": [
      "En la celda anterior se muestra el m\u00e9todo que crea un arreglo que contiene el n\u00famero de ietraciones necesarias para llegar a converger a un valor cuya diferencia con el valor te\u00f3rico, dado por la funci\u00f3n propia de numpy de seno, para cada valor en el linspace de 100 valores entre 0 y 45. Sin embargo, tras ejecutarlo, resulta que converge \u00fanicamente hasta el t\u00e9rmino 78 de dicho linspace. Para los 21 restantes, no se logra convergencia. Por este motivo, para lograr realizar una gr\u00e1fica que muestre la relaci\u00f3n entre el valor cuyo seno se busca y el n\u00famero de iteraciones necesarias para lograrlo, se realiza el mismo procedimiento hasta el \u00faltimo valor que converge. Esta limitaci\u00f3n podr\u00eda deberse a la propia capacidad de procesamiento de mi m\u00e1quina y a lo explicado en el libro de Landau. Dado que Python trabaja \u00e1ngulos en radianes, 2$\\pi$ ya reprsenta un ciclo completo de la funci\u00f3n seno. De ah\u00ed en adelante, se sigue repitiendo el ciclo. Sin embargo, el libro dice que a pesar de que la funci\u00f3n sea peri\u00f3dica, para valores mayores la convergencia requiere de m\u00e1s t\u00e9rminos a utilizarse, es decir, m\u00e1s iteraciones. Dado que 45 es aproximadamente 7 veces 2$\\pi$, se requieren bastantes t\u00e9rminos para lograr que la serie converja, por lo que ocurre lo que el libro de Landau advierte. Seg\u00fan lo que se sabe ahora que el m\u00e9todo converge para el 79avo t\u00e9rmino, se puede concluir que esta m\u00e1quina permite convergencia para aproximadamente 6 ciclos como m\u00e1ximo de la funcion seno. "
     ]
    },
    {
     "cell_type": "code",
     "collapsed": false,
     "input": [
      "#Calcular iteraciones necesarias para reducir error a 0.01. \n",
      "iteraciones1 = [] #Se declara el arreglo de iteraciones necesarias.\n",
      "y1 = linspace(0,45,100) #Se crea el linspace especificado.\n",
      "iteracionInicial1 = 1 #Se establce el valor inicial de las iteraciones.\n",
      "j = 0 #Se declara la variable iterante.\n",
      "while (j < 79): #Se itera hasta el t\u00e9rmino que se sabe converge.\n",
      "    if(abs(sin(y1[j]) - seno(y1[j], iteracionInicial1)) < 0.01): #Se establece la condici\u00f3n de \u00e9xito.\n",
      "        iteraciones1.append(iteracionInicial1) #Se a\u00f1ade la ietraci\u00f3n al arreglo.\n",
      "        j += 1 #Se actualiza la variable iterante.\n",
      "    \n",
      "    else: #Se establece la condici\u00f3n de fracaso.\n",
      "        iteracionInicial1 = iteracionInicial1 + 1 #Se sigue a la pr\u00f3xima iteraci\u00f3n."
     ],
     "language": "python",
     "metadata": {},
     "outputs": [],
     "prompt_number": 4
    },
    {
     "cell_type": "markdown",
     "metadata": {},
     "source": [
      "El m\u00e9todo anteriormente creado permite una total convergencia hasta el t\u00e9rmino 79 del linspace especificado. Con este resultado, se crear\u00e1 entonces una gr\u00e1fica para visualizar los resultados, al igual que el ajuste lineal al comportamiento de estos."
     ]
    },
    {
     "cell_type": "heading",
     "level": 3,
     "metadata": {},
     "source": [
      "Visualizaci\u00f3n de Resultados para justificar las dificultades"
     ]
    },
    {
     "cell_type": "code",
     "collapsed": false,
     "input": [
      "#Realizaci\u00f3n de Ajuste y Graficaci\u00f3n de Datos\n",
      "def ajuste(x, a ,b): #Definir funci\u00f3n de ajuste lineal.\n",
      "    return a*x + b\n",
      "fitpars, covmat=curve_fit(ajuste, y1[0:79], iteraciones1) #Ajuste a los datos usados.\n",
      "\n",
      "scatter(y1[0:79], iteraciones1, label = \"Iteraciones necesarias \\npara lograr convergencia \\ndeseada\") #Graficar los datos.\n",
      "plot(y1[0:79], ajuste(y1[0:79], *fitpars), color = \"Red\", label = \"y=1.35x + 1.99\") #Graficar el ajuste.\n",
      "title(\"Iteraciones Vs Valor en X\") #Est\u00e9tica de la gr\u00e1fica.\n",
      "xlabel(\"Valor en X\")\n",
      "ylabel(\"Iteraciones\")\n",
      "xlim(0, 36)\n",
      "ylim(0,55)\n",
      "legend(bbox_to_anchor=(0.63,1))\n",
      "print(*fitpars)"
     ],
     "language": "python",
     "metadata": {},
     "outputs": [
      {
       "output_type": "stream",
       "stream": "stdout",
       "text": [
        "1.35031158732 1.99936708464\n"
       ]
      },
      {
       "metadata": {},
       "output_type": "display_data",
       "png": "[encoded data removed]",
       "text": [
        "<matplotlib.figure.Figure at 0x1061e1358>"
       ]
      }
     ],
     "prompt_number": 6
    },
    {
     "cell_type": "markdown",
     "metadata": {},
     "source": [
      "Con la gr\u00e1fica es posible ver que a medida que se analiza un valor de X mayor, se requieren m\u00e1s iteraciones, de manera que se tomen en cuenta m\u00e1s t\u00e9rminos para lograr el grado de convergencia requerido. Como tambi\u00e9n es posible ver en la gr\u00e1fica, el ajuste lineal mostrado modela bastante bien el comportamiento de los datos obtenidos. De este se puede concluir que por cada aumento de 1 en el valor de X, se aumentan en 1.5 las iteraciones necesarias para lograr la convergencia al nivel de precisi\u00f3n de 0.01. Sin embargo, debido a la condici\u00f3n de no convergencia a partir del t\u00e9rmino 79 del linspace, se podr\u00eda llegar a pensar que esta correlaci\u00f3n lineal cambia a ser un crecimiento m\u00e1s marcado o de mayor variaci\u00f3n, ya que la m\u00e1quna no logra ejecutarlo completamente. Este podr\u00eda ser un motivo por el cual no es posible ejecutar el m\u00e9todo correctamente para los 100 t\u00e9rminos del linspace especificado."
     ]
    },
    {
     "cell_type": "code",
     "collapsed": false,
     "input": [],
     "language": "python",
     "metadata": {},
     "outputs": [],
     "prompt_number": 55
    },
    {
     "cell_type": "code",
     "collapsed": false,
     "input": [],
     "language": "python",
     "metadata": {},
     "outputs": []
    }
   ],
   "metadata": {}
  }
 ]
}