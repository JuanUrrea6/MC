{
 "cells": [
  {
   "cell_type": "code",
   "execution_count": 1,
   "metadata": {
    "collapsed": false
   },
   "outputs": [
    {
     "name": "stdout",
     "output_type": "stream",
     "text": [
      "Populating the interactive namespace from numpy and matplotlib\n"
     ]
    }
   ],
   "source": [
    "%pylab inline"
   ]
  },
  {
   "cell_type": "code",
   "execution_count": 2,
   "metadata": {
    "collapsed": false
   },
   "outputs": [],
   "source": [
    "Nt=2000\n",
    "Nl=50\n",
    "L=10. #Lado del cubo\n",
    "tmin=0 #Tiempo mínimo\n",
    "tmax=.3 #Tiempo máximo.\n",
    "xmin=-L/2 #Límites en X\n",
    "xmax=L/2\n",
    "ymin=-L/2 #Límites en Y.\n",
    "ymax=L/2\n",
    "dt=(tmax-tmin)/Nt #Diferenciales\n",
    "dx=(xmax-xmin)/Nl\n",
    "dy=(ymax-ymin)/Nl\n",
    "v=425. # m/s\n",
    "xcoords=np.linspace(xmin,xmax,Nl) #Cuadrícula en X.\n",
    "ycoords=np.linspace(xmin,xmax,Nl) #Cuadrícula en Y.\n",
    "xmesh,ymesh=np.meshgrid(xcoords,ycoords) #Unión de Cuadrículas\n",
    "tcoords=np.linspace(tmin,tmax,Nt) #Coordenadas en el Tiempo.\n",
    "#En dos caras opuestas:\n",
    "#ψ(x,y,0) =\n",
    "def func1():\n",
    "    np.exp(-xmesh**2)*np.exp(-ymesh**2)\n",
    "r=v*dt/dx\n",
    "drum=np.zeros((Nt,Nl,Nl))  \n",
    "stdev=0.1\n",
    "drum[0]=np.exp(-xmesh**2/(2*stdev**2))*np.exp(-ymesh**2/(2*stdev**2))\n",
    "drum[1]=drum[0]+r**2/2.*(np.roll(drum[0],1,axis=0)+np.roll(drum[0],-1,axis=0)+np.roll(drum[0],1,axis=1)+np.roll(drum[0],-1,axis=1)-4*drum[0])"
   ]
  },
  {
   "cell_type": "code",
   "execution_count": 3,
   "metadata": {
    "collapsed": false
   },
   "outputs": [
    {
     "data": {
      "image/png": "[encoded data removed]",
      "text/plain": [
       "<matplotlib.figure.Figure at 0x105437908>"
      ]
     },
     "metadata": {},
     "output_type": "display_data"
    }
   ],
   "source": [
    "plt.figure(figsize=(10,3))\n",
    "plt.imshow(drum[1],cmap='gist_heat')\n",
    "plt.show()"
   ]
  },
  {
   "cell_type": "code",
   "execution_count": 4,
   "metadata": {
    "collapsed": true
   },
   "outputs": [],
   "source": [
    "for i in range(2,Nt):\n",
    "    pdrum=drum[i-1]\n",
    "    ppdrum=drum[i-2]\n",
    "    drum[i]=2*(1.-2.*r**2)*pdrum-ppdrum+r**2*(np.roll(pdrum,1,axis=1)+np.roll(pdrum,-1,axis=1)+np.roll(pdrum,1,axis=0)+np.roll(pdrum,-1,axis=0))"
   ]
  },
  {
   "cell_type": "code",
   "execution_count": 5,
   "metadata": {
    "collapsed": false
   },
   "outputs": [
    {
     "data": {
      "text/plain": [
       "<matplotlib.image.AxesImage at 0x107d30ba8>"
      ]
     },
     "execution_count": 5,
     "metadata": {},
     "output_type": "execute_result"
    },
    {
     "data": {
      "image/png": "[encoded data removed]",
      "text/plain": [
       "<matplotlib.figure.Figure at 0x1054f4d30>"
      ]
     },
     "metadata": {},
     "output_type": "display_data"
    }
   ],
   "source": [
    "imshow(drum[1], cmap = 'spectral')"
   ]
  },
  {
   "cell_type": "markdown",
   "metadata": {},
   "source": [
    "##Condiciones Geométricas"
   ]
  },
  {
   "cell_type": "code",
   "execution_count": 6,
   "metadata": {
    "collapsed": true
   },
   "outputs": [],
   "source": [
    "Nt=2000\n",
    "Nl=50\n",
    "L=10. #Lado del cubo\n",
    "tmin=0 #Tiempo mínimo\n",
    "tmax=.3 #Tiempo máximo.\n",
    "xmin=-L/2 #Límites en X\n",
    "xmax=L/2\n",
    "ymin=-L/2 #Límites en Y.\n",
    "ymax=L/2\n",
    "dt=(tmax-tmin)/Nt #Diferenciales\n",
    "dx=(xmax-xmin)/Nl\n",
    "dy=(ymax-ymin)/Nl\n",
    "v=425. # m/s\n",
    "xcoords=np.linspace(xmin,xmax,Nl) #Cuadrícula en X.\n",
    "ycoords=np.linspace(xmin,xmax,Nl) #Cuadrícula en Y.\n",
    "xmesh,ymesh=np.meshgrid(xcoords,ycoords) #Unión de Cuadrículas\n",
    "tcoords=np.linspace(tmin,tmax,Nt) #Coordenadas en el Tiempo.\n",
    "r=v*dt/dx"
   ]
  },
  {
   "cell_type": "markdown",
   "metadata": {},
   "source": [
    "##Construcción de las 6 Caras"
   ]
  },
  {
   "cell_type": "code",
   "execution_count": 7,
   "metadata": {
    "collapsed": false
   },
   "outputs": [],
   "source": [
    "#Se crean las 6 caras del cubo analizado.\n",
    "cara1=zeros((Nt,Nl,Nl))\n",
    "cara2=zeros((Nt,Nl,Nl))\n",
    "cara2=zeros((Nt,Nl,Nl))\n",
    "cara3=zeros((Nt,Nl,Nl))\n",
    "cara4=zeros((Nt,Nl,Nl))\n",
    "cara5=zeros((Nt,Nl,Nl))\n",
    "cara6=zeros((Nt,Nl,Nl))"
   ]
  },
  {
   "cell_type": "markdown",
   "metadata": {},
   "source": [
    "##Condición de Perturbación Inicial"
   ]
  },
  {
   "cell_type": "code",
   "execution_count": 8,
   "metadata": {
    "collapsed": false
   },
   "outputs": [],
   "source": [
    "stdev = (1/sqrt(2)) #Desviación Estándar\n",
    "cara1[0]=np.exp(-xmesh**2/(2*stdev**2))*np.exp(-ymesh**2/(2*stdev**2))\n",
    "cara1[1]=cara1[0]+r**2/2.*(np.roll(cara1[0],1,axis=0)+np.roll(cara1[0],-1,axis=0)+np.roll(cara1[0],1,axis=1)+np.roll(cara1[0],-1,axis=1)-4*cara1[0])\n",
    "cara6[0]=np.exp(-xmesh**2/(2*stdev**2))*np.exp(-ymesh**2/(2*stdev**2))\n",
    "cara6[1]=cara6[0]+r**2/2.*(np.roll(cara6[0],1,axis=0)+np.roll(cara6[0],-1,axis=0)+np.roll(cara6[0],1,axis=1)+np.roll(cara6[0],-1,axis=1)-4*cara6[0])"
   ]
  },
  {
   "cell_type": "code",
   "execution_count": 25,
   "metadata": {
    "collapsed": false
   },
   "outputs": [
    {
     "name": "stdout",
     "output_type": "stream",
     "text": [
      "El Cubo en T=0\n"
     ]
    },
    {
     "data": {
      "image/png": "[encoded data removed]",
      "text/plain": [
       "<matplotlib.figure.Figure at 0x116e7ce48>"
      ]
     },
     "metadata": {},
     "output_type": "display_data"
    }
   ],
   "source": [
    "#Visualizar el cubo.\n",
    "figure(figsize=(7,7))\n",
    "ax1 = subplot2grid((3,4), (0,1), colspan=1)\n",
    "imshow(cara4[0])\n",
    "axis('off')\n",
    "title(\"Cara 4\")\n",
    "ax2 = subplot2grid((3,4), (1,0), colspan=1)\n",
    "imshow(cara5[0])\n",
    "axis('off')\n",
    "title(\"Cara 5\")\n",
    "ax3 = subplot2grid((3,4), (1,1), colspan=1)\n",
    "imshow(cara1[0])\n",
    "axis('off')\n",
    "title(\"Cara1\")\n",
    "ax4 = subplot2grid((3,4), (1,2), colspan=1)\n",
    "imshow(cara3[0])\n",
    "axis('off')\n",
    "title(\"Cara 3\")\n",
    "ax5 = subplot2grid((3,4), (1,3), colspan=1)\n",
    "imshow(cara6[0])\n",
    "axis('off')\n",
    "title(\"Cara 6\")\n",
    "ax6 = subplot2grid((3,4), (2,1), colspan=1)\n",
    "imshow(cara2[0])\n",
    "axis('off')\n",
    "title(\"Cara 2\")\n",
    "print(\"El Cubo en T=0\")"
   ]
  },
  {
   "cell_type": "markdown",
   "metadata": {},
   "source": [
    "##Condiciones de Frontera Periódicas"
   ]
  },
  {
   "cell_type": "code",
   "execution_count": 44,
   "metadata": {
    "collapsed": true
   },
   "outputs": [],
   "source": [
    "for i in range(2,Nl):\n",
    "    pdrum=cara1[i-1]\n",
    "    ppdrum=cara1[i-2]\n",
    "    cara1[i]=2*(1.-2.*r**2)*pdrum-ppdrum+r**2*(np.roll(pdrum,1,axis=1)+np.roll(pdrum,-1,axis=1)+np.roll(pdrum,1,axis=0)+np.roll(pdrum,-1,axis=0))"
   ]
  },
  {
   "cell_type": "code",
   "execution_count": null,
   "metadata": {
    "collapsed": true
   },
   "outputs": [],
   "source": [
    "for i in range(2,Nl):\n",
    "    if i < Nl:\n",
    "        pdrum=cara2[i-1]\n",
    "        ppdrum=cara2[i-2]\n",
    "        cara2[i]=2*(1.-2.*r**2)*pdrum-ppdrum+r**2*(np.roll(pdrum,1,axis=1)+np.roll(pdrum,-1,axis=1)+np.roll(pdrum,1,axis=0)+np.roll(pdrum,-1,axis=0))\n",
    "    else:\n",
    "        pdrum=cara2[i-1]\n",
    "        ppdrum=cara2[i-2]\n",
    "        cara2[i] = 2*(1.-2.*r**2)*pdrum-ppdrum+r**2*(np.roll(cara2[i-1],1, axis=0) + np.roll(pdrum,-1,axis=0) + np.roll(cara4[i-1],1,axis=1) + np.roll(pdrum, -1, axis=1))\n",
    "     "
   ]
  },
  {
   "cell_type": "code",
   "execution_count": 47,
   "metadata": {
    "collapsed": false
   },
   "outputs": [
    {
     "data": {
      "text/plain": [
       "<matplotlib.colorbar.Colorbar at 0x116d185f8>"
      ]
     },
     "execution_count": 47,
     "metadata": {},
     "output_type": "execute_result"
    },
    {
     "data": {
      "image/png": "[encoded data removed]",
      "text/plain": [
       "<matplotlib.figure.Figure at 0x116922c88>"
      ]
     },
     "metadata": {},
     "output_type": "display_data"
    }
   ],
   "source": [
    "imshow(cara1[10], cmap = 'spectral')\n",
    "colorbar()"
   ]
  },
  {
   "cell_type": "code",
   "execution_count": null,
   "metadata": {
    "collapsed": true
   },
   "outputs": [],
   "source": []
  }
 ],
 "metadata": {
  "kernelspec": {
   "display_name": "Python 3",
   "language": "python",
   "name": "python3"
  },
  "language_info": {
   "codemirror_mode": {
    "name": "ipython",
    "version": 3
   },
   "file_extension": ".py",
   "mimetype": "text/x-python",
   "name": "python",
   "nbconvert_exporter": "python",
   "pygments_lexer": "ipython3",
   "version": "3.4.3"
  }
 },
 "nbformat": 4,
 "nbformat_minor": 0
}
