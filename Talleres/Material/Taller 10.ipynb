{
 "cells": [
  {
   "cell_type": "code",
   "execution_count": 1,
   "metadata": {
    "collapsed": false
   },
   "outputs": [
    {
     "name": "stdout",
     "output_type": "stream",
     "text": [
      "Populating the interactive namespace from numpy and matplotlib\n"
     ]
    }
   ],
   "source": [
    "%pylab inline"
   ]
  },
  {
   "cell_type": "code",
   "execution_count": 2,
   "metadata": {
    "collapsed": false
   },
   "outputs": [],
   "source": [
    "N=20 #Tamaño del lado\n",
    "lattice=np.ones((N,N,N)) #Crear la matriz\n",
    "T=10 #La constante para definir Beta\n",
    "beta=1./T #Mi beta.\n",
    "\n",
    "#NOTA: Se adaptó el código de Juan David, por lo que no modifiqué los nombres de variables. \n",
    "\n",
    "#Modificación: Se añaden los rolls correspondientes al axis 2, la tercera dimensión de la matriz.\n",
    "def total_energy(): #La energía total\n",
    "    global lattice\n",
    "    return -sum(sum(lattice*(np.roll(lattice,1,axis=1)+np.roll(lattice,-1,axis=1)+np.roll(lattice,1,axis=0)+np.roll(lattice,-1,axis=0)+np.roll(lattice,-1,axis=2)+np.roll(lattice,1,axis=2))))\n",
    "\n",
    "#Modificación: Se añade el tercer parámetro para la coordenada tridimensional a estudiar.\n",
    "def block_energy(i,j,k):\n",
    "    global lattice\n",
    "    global N\n",
    "    return -(lattice[i,j,k]*(lattice[(i-1)%N,j,k]+lattice[(i+1)%N,j,k]+lattice[i,(j+1)%N,k]+lattice[i,(j-1)%N,k] + lattice[i,j,(k+1)%N] + lattice[i,j,(k-1)%N]))\n",
    "\n",
    "#Modificación: Se añade la selección aleatoria de una coordeanda tridimensional.\n",
    "def flipone():\n",
    "    global lattice\n",
    "    global beta\n",
    "    global N\n",
    "    # Pick a random site\n",
    "    nx, ny, nz= np.random.randint(0,N),np.random.randint(0,N), np.random.randint(0,N)\n",
    "    # Calculate current energy of site and neighbors\n",
    "    en_i=block_energy(nx,ny,nz)\n",
    "    # If it were flipped\n",
    "    en_f=-en_i\n",
    "    if en_f < en_i: # This could be simplified\n",
    "        lattice[nx,ny,nz]*=-1\n",
    "    elif np.random.random() < min(1,np.exp(-beta*(en_f-en_i))):\n",
    "        lattice[nx,ny,nz]*=-1\n",
    "\n",
    "#Modificación: Se divide entre el número total de espines nuevos: N^3\n",
    "def magnetization():\n",
    "    global lattice\n",
    "    global N\n",
    "    return sum(sum(lattice))/N**3"
   ]
  },
  {
   "cell_type": "code",
   "execution_count": 9,
   "metadata": {
    "collapsed": false
   },
   "outputs": [],
   "source": [
    "magnetizaciones=[]\n",
    "lattice=np.ones((N,N,N)) #La nueva matriz de tres dimensiones.\n",
    "numIter=100*N**2 #Sigo utilizando este número de iteraciones porque soy impaciente :) \n",
    "for temp in np.linspace(0.1,8,40): #Límites acordes a la gráfica del enunciado\n",
    "    T=temp\n",
    "    beta=1./T\n",
    "    mag=[]\n",
    "    for i in range(numIter):\n",
    "        flipone()\n",
    "        if i>numIter-10: #Ahora utilizo los últimos 10 estados.\n",
    "            mag.append(magnetization())\n",
    "    magnetizaciones.append([T,np.mean(mag)])\n",
    "magnetizaciones=np.array(magnetizaciones)"
   ]
  },
  {
   "cell_type": "code",
   "execution_count": 14,
   "metadata": {
    "collapsed": false
   },
   "outputs": [],
   "source": [
    "#Aquí se crea la línea horizontal constante en 0 para mostrar en la gráfica.\n",
    "losX=[]\n",
    "t = linspace(0,8,100)\n",
    "for __ in range(len(t)):\n",
    "    losX.append(0)"
   ]
  },
  {
   "cell_type": "code",
   "execution_count": 13,
   "metadata": {
    "collapsed": false
   },
   "outputs": [
    {
     "data": {
      "image/png": "[encoded data removed]",
      "text/plain": [
       "<matplotlib.figure.Figure at 0x105bbe320>"
      ]
     },
     "metadata": {},
     "output_type": "display_data"
    }
   ],
   "source": [
    "#Presentación de la gráfica\n",
    "#Mismo estilo que en el ejemplo 2D de Juan David.\n",
    "plt.figure(figsize=(10,6))\n",
    "plt.plot(magnetizaciones[:,0],magnetizaciones[:,1], \"o-\", label = \"Magnetización\")\n",
    "plt.xlabel(\"T\")\n",
    "plt.ylabel(\"M\")\n",
    "ylim(-0.1,1)\n",
    "plt.title(u\"Magnetización en el Modelo de Ising 3D\") \n",
    "plt.axvline(4.51, color='red', label = \"Tc\")\n",
    "plt.plot(t,losX, color = \"Black\")\n",
    "legend()\n",
    "plt.show()"
   ]
  },
  {
   "cell_type": "code",
   "execution_count": null,
   "metadata": {
    "collapsed": true
   },
   "outputs": [],
   "source": []
  }
 ],
 "metadata": {
  "kernelspec": {
   "display_name": "Python 3",
   "language": "python",
   "name": "python3"
  },
  "language_info": {
   "codemirror_mode": {
    "name": "ipython",
    "version": 3
   },
   "file_extension": ".py",
   "mimetype": "text/x-python",
   "name": "python",
   "nbconvert_exporter": "python",
   "pygments_lexer": "ipython3",
   "version": "3.4.3"
  }
 },
 "nbformat": 4,
 "nbformat_minor": 0
}
