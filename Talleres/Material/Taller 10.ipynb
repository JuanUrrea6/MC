{
 "cells": [
  {
   "cell_type": "code",
   "execution_count": 1,
   "metadata": {
    "collapsed": false
   },
   "outputs": [
    {
     "name": "stdout",
     "output_type": "stream",
     "text": [
      "Populating the interactive namespace from numpy and matplotlib\n"
     ]
    }
   ],
   "source": [
    "%pylab inline"
   ]
  },
  {
   "cell_type": "code",
   "execution_count": 29,
   "metadata": {
    "collapsed": false
   },
   "outputs": [],
   "source": [
    "N=20\n",
    "lattice=np.ones((N,N,N))\n",
    "T=10\n",
    "beta=1./T\n",
    "\n",
    "def total_energy():\n",
    "    global lattice\n",
    "    return -sum(sum(lattice*(np.roll(lattice,1,axis=1)+np.roll(lattice,-1,axis=1)+np.roll(lattice,1,axis=0)+np.roll(lattice,-1,axis=0)+np.roll(lattice,-1,axis=2)+np.roll(lattice,1,axis=2))))\n",
    "\n",
    "def block_energy(i,j,k):\n",
    "    global lattice\n",
    "    global N\n",
    "    return -(lattice[i,j,k]*(lattice[(i-1)%N,j,k]+lattice[(i+1)%N,j,k]+lattice[i,(j+1)%N,k]+lattice[i,(j-1)%N,k] + lattice[i,j,(k+1)%N] + lattice[i,j,(k-1)%N]))\n",
    "\n",
    "\n",
    "def flipone():\n",
    "    global lattice\n",
    "    global beta\n",
    "    global N\n",
    "    # Pick a random site\n",
    "    nx, ny, nz= np.random.randint(0,N),np.random.randint(0,N), np.random.randint(0,N)\n",
    "    # Calculate current energy of site and neighbors\n",
    "    en_i=block_energy(nx,ny,nz)\n",
    "    # If it were flipped\n",
    "    en_f=-en_i\n",
    "    if en_f < en_i: # This could be simplified\n",
    "        lattice[nx,ny,nz]*=-1\n",
    "    elif np.random.random() < min(1,np.exp(-beta*(en_f-en_i))):\n",
    "        lattice[nx,ny,nz]*=-1\n",
    "        \n",
    "def magnetization():\n",
    "    global lattice\n",
    "    global N\n",
    "    return sum(sum(lattice))/N**3"
   ]
  },
  {
   "cell_type": "code",
   "execution_count": 36,
   "metadata": {
    "collapsed": false
   },
   "outputs": [],
   "source": [
    "magnetizaciones=[]\n",
    "lattice=np.ones((N,N,N))\n",
    "numIter=100*N**2\n",
    "for temp in np.linspace(0.1,8,40):\n",
    "    T=temp\n",
    "    beta=1./T\n",
    "    mag=[]\n",
    "    for i in range(numIter):\n",
    "        flipone()\n",
    "        if i>numIter-100:\n",
    "            mag.append(magnetization())\n",
    "    magnetizaciones.append([T,np.mean(mag)])\n",
    "magnetizaciones=np.array(magnetizaciones)"
   ]
  },
  {
   "cell_type": "code",
   "execution_count": 43,
   "metadata": {
    "collapsed": false
   },
   "outputs": [
    {
     "name": "stdout",
     "output_type": "stream",
     "text": [
      "100 100\n"
     ]
    }
   ],
   "source": [
    "losX=[]\n",
    "t = linspace(0,8,100)\n",
    "for __ in range(len(t)):\n",
    "    losX.append(0)\n",
    "print(len(t), len(losX))"
   ]
  },
  {
   "cell_type": "code",
   "execution_count": 45,
   "metadata": {
    "collapsed": false
   },
   "outputs": [
    {
     "data": {
      "image/png": "[encoded data removed]",
      "text/plain": [
       "<matplotlib.figure.Figure at 0x106b33e48>"
      ]
     },
     "metadata": {},
     "output_type": "display_data"
    }
   ],
   "source": [
    "plt.figure(figsize=(10,6))\n",
    "plt.plot(magnetizaciones[:,0],magnetizaciones[:,1], \"o-\")\n",
    "plt.xlabel(\"T\")\n",
    "plt.ylabel(\"M\")\n",
    "ylim(-0.1,1)\n",
    "plt.title(u\"Magnetización en el Modelo de Ising 3D\") \n",
    "plt.axvline(4.51, color='red')\n",
    "plt.plot(t,losX, color = \"Black\")\n",
    "plt.show()"
   ]
  },
  {
   "cell_type": "code",
   "execution_count": null,
   "metadata": {
    "collapsed": true
   },
   "outputs": [],
   "source": []
  }
 ],
 "metadata": {
  "kernelspec": {
   "display_name": "Python 3",
   "language": "python",
   "name": "python3"
  },
  "language_info": {
   "codemirror_mode": {
    "name": "ipython",
    "version": 3
   },
   "file_extension": ".py",
   "mimetype": "text/x-python",
   "name": "python",
   "nbconvert_exporter": "python",
   "pygments_lexer": "ipython3",
   "version": "3.4.3"
  }
 },
 "nbformat": 4,
 "nbformat_minor": 0
}
