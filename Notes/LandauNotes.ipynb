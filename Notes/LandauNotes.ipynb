{
 "metadata": {
  "name": "",
  "signature": "sha256:029e421bfb7db76351616ff0ee0d7696788229e19b8ab51774f6090deb5c77dd"
 },
 "nbformat": 3,
 "nbformat_minor": 0,
 "worksheets": [
  {
   "cells": [
    {
     "cell_type": "heading",
     "level": 1,
     "metadata": {},
     "source": [
      "Apuntes de Python: Libro de Landau"
     ]
    },
    {
     "cell_type": "markdown",
     "metadata": {},
     "source": [
      "En todo proceso, c\u00e1lculo o algoritmo computacional que se realiza, siempre existir\u00e1 error de alg\u00fan tipo. Este error se puede clasificar de acuerdo a su fuente, y con respecto a esta es posible reducirlo lo m\u00e1s que se pueda.\n",
      "##Tipos de Error:\n",
      "* Te\u00f3ricos: Este tipo de error no depende del proceso realizado, sino de sus bases te\u00f3ricas y lo que se propone utilizar. Cuando la teor\u00eda inicial es incorrecta, puede que los pasos a seguir se realicen al pie de la letra, y a\u00fan as\u00ed los resultados ser\u00e1n incorrectos, pues el procedimiento era incorrecto a priori. Es un error humano, m\u00e1s su correcci\u00f3n resulta sencilla.\n",
      "* Aleatorios: Este tipo de error no depende ni del usuario ni de la m\u00e1quina. Son causados por eventos fuera de nuestro control, como una falla de luz, la explosi\u00f3n del planeta o rayos c\u00f3smicos. Su eliminaci\u00f3n no es posible, y su reducci\u00f3n depende un poco de la suerte, pues se espera no ocurran eventos de este tipo durante el experimento.\n",
      "* Aproximaciones de C\u00e1lculo: Estos errores se deben a la m\u00e1quina principalmente, en espec\u00edfico cuando se trata del c\u00e1lculo de series infinitas o integrales impropias, pues la m\u00e1quina no puede iterar infinitamente y esperarse un resultado, por lo que generalmente se realizan iteraciones hasta un n\u00famero N bastante elevado. El error ser\u00eda el resultado de esa serie o integral desde N+1 hasta infinito. Para reducir este error, el n\u00famero N debe ser muy elevado.\n",
      "* Aproximaciones de Decimales: Este tipo de error tambi\u00e9n se debe principalmente a la m\u00e1quina, en lo que respecta a las aproximaciones de decimales infinitos. Cuando estos se redondean a una cantidad fija de cifras, los c\u00e1lculos pueden comenzar a presentar errores. Cuando varios c\u00e1lculos con decimales redondeados se realizan, m\u00e1s errores se presentan en los resultados progresivos."
     ]
    },
    {
     "cell_type": "code",
     "collapsed": false,
     "input": [
      "%pylab inline"
     ],
     "language": "python",
     "metadata": {},
     "outputs": [
      {
       "output_type": "stream",
       "stream": "stdout",
       "text": [
        "Populating the interactive namespace from numpy and matplotlib\n"
       ]
      }
     ],
     "prompt_number": 2
    },
    {
     "cell_type": "markdown",
     "metadata": {},
     "source": [
      "**Ejercicio 1**\n",
      "C\u00e1lculo de raices para polinomio grado 2."
     ]
    },
    {
     "cell_type": "code",
     "collapsed": false,
     "input": [
      "#Funci\u00f3n que retorna la soluci\u00f3n del polinomio con esos coeficientes.\n",
      "def solPoli(a,b,c):\n",
      "    #Se calcula cada soluci\u00f3n.\n",
      "    sol1 = (-b + (b**2 - 4*a*c)**(0.5))/(2*a)\n",
      "    sol2 = (-b - (b**2 - 4*a*c)**(0.5))/(2*a)\n",
      "    #Se construye un arreglo para las soluciones.\n",
      "    soluciones=[]\n",
      "    #Se a\u00f1aden las dos soluciones al arreglo.\n",
      "    soluciones.append(sol1)\n",
      "    soluciones.append(sol2)\n",
      "    #Se retorna el arreglo de soluciones.\n",
      "    return soluciones"
     ],
     "language": "python",
     "metadata": {},
     "outputs": [],
     "prompt_number": 11
    },
    {
     "cell_type": "code",
     "collapsed": false,
     "input": [
      "print(solPoli(1,3,8))"
     ],
     "language": "python",
     "metadata": {},
     "outputs": [
      {
       "output_type": "stream",
       "stream": "stdout",
       "text": [
        "[(-1.4999999999999998+2.3979157616563596j), (-1.5000000000000002-2.3979157616563596j)]\n"
       ]
      }
     ],
     "prompt_number": 13
    },
    {
     "cell_type": "markdown",
     "metadata": {},
     "source": [
      "Como puede observarse de las sluciones obtenidas al polinomio $x^2 + 3x + 8$, la parte real tiene una imprecisi\u00f3n en el \u00faltimo decimal en ambas soluciones, mientras que la parte imaginaria es igual en ambas. Ahora se utilizar\u00e1n coeficientes indicados en el libro para porbar la imprecisi\u00f3n de la m\u00e1quina."
     ]
    },
    {
     "cell_type": "code",
     "collapsed": false,
     "input": [
      "print(solPoli(1,1,10**(-2)))"
     ],
     "language": "python",
     "metadata": {},
     "outputs": [
      {
       "output_type": "stream",
       "stream": "stdout",
       "text": [
        "[-0.010102051443364402, -0.9898979485566356]\n"
       ]
      }
     ],
     "prompt_number": 16
    },
    {
     "cell_type": "markdown",
     "metadata": {},
     "source": [
      "**Ejercicio 2:** C\u00e1lculo de series de distintas formas"
     ]
    },
    {
     "cell_type": "code",
     "collapsed": false,
     "input": [
      "def calcSerie(N):\n",
      "    resultado1 = 0\n",
      "    resultado2 = (1/N)\n",
      "    i = 1\n",
      "    for i in range(N):\n",
      "        resultado1 = resultado1 + (1/(i+1))\n",
      "        resultado2 = resultado2 + (1/(N - i))\n",
      "    resultados=[]\n",
      "    resultados.append(resultado1)\n",
      "    resultados.append(resultado2)\n",
      "    error = abs(resultados[0]-resultados[1])\n",
      "    resultados.append(error)\n",
      "    return resultados"
     ],
     "language": "python",
     "metadata": {},
     "outputs": [],
     "prompt_number": 32
    },
    {
     "cell_type": "code",
     "collapsed": false,
     "input": [
      "print(calcSerie(100))"
     ],
     "language": "python",
     "metadata": {},
     "outputs": [
      {
       "output_type": "stream",
       "stream": "stdout",
       "text": [
        "[5.187377517639621, 5.197377517639621, 0.010000000000000675]\n"
       ]
      }
     ],
     "prompt_number": 33
    },
    {
     "cell_type": "markdown",
     "metadata": {},
     "source": [
      "Tal como se indicaba en el enunciado, a pesar de que matem\u00e1ticamente ambas expresiones utilizadas zon la misma, la imprecisi\u00f3n de la m\u00e1quina causa un error. Este error es el \u00faltimo t\u00e9rmino del arreglo de resultados mostrado."
     ]
    },
    {
     "cell_type": "heading",
     "level": 1,
     "metadata": {},
     "source": [
      "Propagaci\u00f3n de Error en Procesos Simples"
     ]
    },
    {
     "cell_type": "markdown",
     "metadata": {},
     "source": [
      "Para procesos que solo involucran un paso, como lo son multiplicaci\u00f3n y divisi\u00f3n, el error se puede definir como la suma de los errores de sus factores. Para funciones generales f(x), se puede definir como:\n",
      "$$E=\\frac{df}{dx}(X-X_c)$$"
     ]
    },
    {
     "cell_type": "markdown",
     "metadata": {},
     "source": [
      "Hay distintas maneras de analizar y reducir los distintos tipos de errores que aparecen en los algortimos y funciones computacionales. Generalmente, la utilizaci\u00f3n de procesos m\u00e1s intensivos y con m\u00e1s te'rminos puede llegar a reducir el error, sin embargo actualmente hay ramas de investigaci\u00f3n dedicadas a este fin."
     ]
    },
    {
     "cell_type": "code",
     "collapsed": false,
     "input": [],
     "language": "python",
     "metadata": {},
     "outputs": []
    }
   ],
   "metadata": {}
  }
 ]
}