{
 "cells": [
  {
   "cell_type": "code",
   "execution_count": 10,
   "metadata": {
    "collapsed": false
   },
   "outputs": [],
   "source": [
    "from scipy.fftpack import *\n",
    "from scipy.io.wavfile import *\n",
    "import matplotlib\n",
    "import numpy"
   ]
  },
  {
   "cell_type": "markdown",
   "metadata": {},
   "source": [
    "Se busca tomar una señal y descomponerla en sus frecuencias fundamentales."
   ]
  },
  {
   "cell_type": "markdown",
   "metadata": {},
   "source": [
    "##Tratamiento de Archivos"
   ]
  },
  {
   "cell_type": "code",
   "execution_count": 45,
   "metadata": {
    "collapsed": true
   },
   "outputs": [],
   "source": [
    "#Nombre: Leer\n",
    "#Parámetros: archivo- El nombre completo del archivo, junto con la extensión .wav.\n",
    "#Parámetros: graficar- Booleano. De ser True, grafica los datos obtenidos del archivo importado.\n",
    "#Este método importa un archivo escrito como .wav, para luego retornar un arreglo que contiene todos los datos\n",
    "#contenidos en dicho archivo.\n",
    "def leer(archivo, graficar):\n",
    "    datosGeneral = wavfile.read(archivo)\n",
    "    original = datosGeneral[1]\n",
    "    t = linspace(0, len(original), len(original))\n",
    "    if(graficar == True):\n",
    "        figure(figsize=(10,5))\n",
    "        plot(t, original)\n",
    "        xlabel(\"Tiempo(s)\")\n",
    "        ylabel(\"Valor\")\n",
    "        title(\"Visualización de Sonido\")\n",
    "    return original"
   ]
  },
  {
   "cell_type": "code",
   "execution_count": 55,
   "metadata": {
    "collapsed": true
   },
   "outputs": [],
   "source": [
    "#Nombre: Fourier\n",
    "#Parámetros: archivo- El nombre del archivo generado por la función Leer.\n",
    "#Parámetros: graficar- Booleano que, de ser True, permite a la función graficar la transformada de Fourier realizada\n",
    "#Este método recibe un archivo que contiene los datos de un .wav y retorna un arreglo de dos elementos:\n",
    "#el primero es la transformada discreta de Fourier y el segundo son las frecuencias asociadas.\n",
    "def fourier(archivo, graficar):\n",
    "    transformada = fft(archivo)\n",
    "    N = len(archivo)\n",
    "    dt = (archivo[-1] - archivo[0])/N\n",
    "    frecuencias = fftfreq(N,dt)/(2*pi)\n",
    "    final = array([frecuencias, transformada])\n",
    "    if(graficar == True):\n",
    "        plot(frecuencias, transformada.real)\n",
    "        xlabel(\"Frecuencias(Hz)\")\n",
    "        ylabel(\"Dato en Transformada\")\n",
    "        title(\"Visualización en dominio de la Frecuencia\")\n",
    "    return final"
   ]
  },
  {
   "cell_type": "code",
   "execution_count": null,
   "metadata": {
    "collapsed": true
   },
   "outputs": [],
   "source": [
    "def filtro(transformada, frecuencias):\n",
    "    "
   ]
  },
  {
   "cell_type": "code",
   "execution_count": 92,
   "metadata": {
    "collapsed": false
   },
   "outputs": [],
   "source": [
    "#Pruebas con resultado.wav\n",
    "datosGeneral = wavfile.read(\"resultado.wav\")\n",
    "original = datosGeneral[1]\n",
    "\n",
    "transformada = fft(original)\n",
    "N = len(original)\n",
    "dt = (original[-1] - original[0])/N\n",
    "t = linspace(0, len(original), len(original))"
   ]
  },
  {
   "cell_type": "code",
   "execution_count": 93,
   "metadata": {
    "collapsed": false
   },
   "outputs": [
    {
     "data": {
      "text/plain": [
       "[<matplotlib.lines.Line2D at 0x7f81ec5f77b8>]"
      ]
     },
     "execution_count": 93,
     "metadata": {},
     "output_type": "execute_result"
    },
    {
     "data": {
      "image/png": "[encoded data removed]",
      "text/plain": [
       "<matplotlib.figure.Figure at 0x7f81ec64bd68>"
      ]
     },
     "metadata": {},
     "output_type": "display_data"
    }
   ],
   "source": [
    "#Visualizar frecuencias\n",
    "frecuencias = fftfreq(N,dt)/(2*pi)\n",
    "plot(frecuencias, transformada.real)"
   ]
  },
  {
   "cell_type": "code",
   "execution_count": 94,
   "metadata": {
    "collapsed": false
   },
   "outputs": [
    {
     "data": {
      "text/plain": [
       "<matplotlib.collections.PathCollection at 0x7f81ec55a5c0>"
      ]
     },
     "execution_count": 94,
     "metadata": {},
     "output_type": "execute_result"
    },
    {
     "data": {
      "image/png": "[encoded data removed]",
      "text/plain": [
       "<matplotlib.figure.Figure at 0x7f81ec583160>"
      ]
     },
     "metadata": {},
     "output_type": "display_data"
    }
   ],
   "source": [
    "#Realizar filtrado de prueba\n",
    "freq_max = 250 #Frecuencia límite superior\n",
    "transformada[frecuencias < max(frecuencias)] = 0 #El filtrado\n",
    "nuevos = ifft(transformada)\n",
    "scatter(t, nuevos.real)"
   ]
  },
  {
   "cell_type": "markdown",
   "metadata": {},
   "source": [
    "Tomar el archivo importado y realizar la transformada de Fourier. Esto para dejar los datos en el dominio de la frecuencia y poder realizar el filtro. Luego de tenerlos así, se construirán los arreglos que permiten su visualización gráfica y análisis."
   ]
  },
  {
   "cell_type": "code",
   "execution_count": 4,
   "metadata": {
    "collapsed": false
   },
   "outputs": [
    {
     "ename": "NameError",
     "evalue": "name 'archivo' is not defined",
     "output_type": "error",
     "traceback": [
      "\u001b[0;31m---------------------------------------------------------------------------\u001b[0m",
      "\u001b[0;31mNameError\u001b[0m                                 Traceback (most recent call last)",
      "\u001b[0;32m<ipython-input-4-c362030b63d2>\u001b[0m in \u001b[0;36m<module>\u001b[0;34m()\u001b[0m\n\u001b[1;32m      1\u001b[0m \u001b[0;31m#Propiedades a tener en cuenta:\u001b[0m\u001b[0;34m\u001b[0m\u001b[0;34m\u001b[0m\u001b[0m\n\u001b[0;32m----> 2\u001b[0;31m \u001b[0mN\u001b[0m \u001b[0;34m=\u001b[0m \u001b[0mlen\u001b[0m\u001b[0;34m(\u001b[0m\u001b[0marchivo\u001b[0m\u001b[0;34m)\u001b[0m \u001b[0;31m#El número de datos obtenidos.\u001b[0m\u001b[0;34m\u001b[0m\u001b[0m\n\u001b[0m\u001b[1;32m      3\u001b[0m \u001b[0mdt\u001b[0m \u001b[0;34m=\u001b[0m \u001b[0;34m(\u001b[0m\u001b[0marchivo\u001b[0m\u001b[0;34m[\u001b[0m\u001b[0;34m-\u001b[0m\u001b[0;36m1\u001b[0m\u001b[0;34m]\u001b[0m \u001b[0;34m-\u001b[0m \u001b[0marchivo\u001b[0m\u001b[0;34m[\u001b[0m\u001b[0;36m0\u001b[0m\u001b[0;34m]\u001b[0m\u001b[0;34m)\u001b[0m\u001b[0;34m/\u001b[0m\u001b[0mN\u001b[0m \u001b[0;31m#El dt\u001b[0m\u001b[0;34m\u001b[0m\u001b[0m\n",
      "\u001b[0;31mNameError\u001b[0m: name 'archivo' is not defined"
     ]
    }
   ],
   "source": [
    "#Propiedades a tener en cuenta:\n",
    "N = len(archivo) #El número de datos obtenidos.\n",
    "dt = (archivo[-1] - archivo[0])/N #El dt"
   ]
  },
  {
   "cell_type": "code",
   "execution_count": null,
   "metadata": {
    "collapsed": true
   },
   "outputs": [],
   "source": [
    "#Creación de los arreglos en el dominio de la frecuencia.\n",
    "datosTransformados = fft(archivo)\n",
    "frecuencias = fftfreq(N,dt)/(2*pi) #Frecuencia NO angular."
   ]
  },
  {
   "cell_type": "markdown",
   "metadata": {},
   "source": [
    "##Análisis de Fourier/Filtrado de Frecuencias"
   ]
  },
  {
   "cell_type": "markdown",
   "metadata": {},
   "source": [
    "Para realizar el filtrado, visualizan primero las frecuencias contenidas en el archivo analizado."
   ]
  },
  {
   "cell_type": "code",
   "execution_count": null,
   "metadata": {
    "collapsed": true
   },
   "outputs": [],
   "source": []
  }
 ],
 "metadata": {
  "kernelspec": {
   "display_name": "Python 3",
   "language": "python",
   "name": "python3"
  },
  "language_info": {
   "codemirror_mode": {
    "name": "ipython",
    "version": 3
   },
   "file_extension": ".py",
   "mimetype": "text/x-python",
   "name": "python",
   "nbconvert_exporter": "python",
   "pygments_lexer": "ipython3",
   "version": "3.4.3"
  }
 },
 "nbformat": 4,
 "nbformat_minor": 0
}
