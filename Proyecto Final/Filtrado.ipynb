{
 "cells": [
  {
   "cell_type": "code",
   "execution_count": 142,
   "metadata": {
    "collapsed": false
   },
   "outputs": [
    {
     "name": "stdout",
     "output_type": "stream",
     "text": [
      "Populating the interactive namespace from numpy and matplotlib\n"
     ]
    }
   ],
   "source": [
    "%pylab inline\n",
    "from scipy.fftpack import *\n",
    "from scipy.io.wavfile import *\n",
    "from prettytable import PrettyTable"
   ]
  },
  {
   "cell_type": "markdown",
   "metadata": {},
   "source": [
    "#Análisis de Frecuencias\n",
    "##Construción de Funciones"
   ]
  },
  {
   "cell_type": "markdown",
   "metadata": {},
   "source": [
    "En esta seción se construyen las funciones sobre las cuales se basa todo el estudio de las frecuencias contenidas en los archivos de audio utilizados. Primero, se establacen las constantes que serán modificadas cada vez que las funciones se empleen sobre un archivo **.wav** distinto. Luego, se construyen como tal las funciones **leer()** y **fourier**, las cuales permiten obtener el arreglo de enteros de tipo int16 del archivo de audio y su frecuencia de muestreo, con **leer()**, y obtener la respectiva transformada de Fourier en el dominio de la Frecuencia de este arreglo y las frecuencias asociadas, con **fourier()**."
   ]
  },
  {
   "cell_type": "code",
   "execution_count": 2,
   "metadata": {
    "collapsed": true
   },
   "outputs": [],
   "source": [
    "#Algunas constantes que serán modificadas por las funciones.\n",
    "sampling = 0 #La frecuencia de muestreo del archivo de audio analizado. (Tipo= int)\n",
    "dt = 0 #El diferencial de tiempo que define el menor salto de tiempo en el archivo. (Tipo = int)\n",
    "N = 0 #La cantidad de datos en el archivo de audio. (Tipo = int)\n",
    "t = []"
   ]
  },
  {
   "cell_type": "code",
   "execution_count": 3,
   "metadata": {
    "collapsed": true
   },
   "outputs": [],
   "source": [
    "#Nombre: Leer\n",
    "#Parámetros: archivo- El nombre completo del archivo, junto con la extensión .wav.\n",
    "#Parámetros: graficar- Booleano. De ser True, grafica los datos obtenidos del archivo importado.\n",
    "#Este método importa un archivo escrito como .wav, para luego retornar un arreglo que contiene todos los datos\n",
    "#contenidos en dicho archivo, la frecuencia de sampling del archivo .wav y el arreglo de duración temporal propio.\n",
    "def leer(archivo):\n",
    "    global sampling\n",
    "    global t\n",
    "    global N\n",
    "    datosGeneral = read(archivo)\n",
    "    original = datosGeneral[1]\n",
    "    sampling = datosGeneral[0]\n",
    "    N = len(original)\n",
    "    t = linspace(0, N*(1/sampling), N)\n",
    "    return array([original, sampling, t])"
   ]
  },
  {
   "cell_type": "code",
   "execution_count": 18,
   "metadata": {
    "collapsed": true
   },
   "outputs": [],
   "source": [
    "#Nombre: Fourier\n",
    "#Parámetros: archivo- El nombre del archivo generado por la función Leer.\n",
    "#Parámetros: graficar- Booleano que, de ser True, permite a la función graficar la transformada de Fourier realizada\n",
    "#Este método recibe un archivo que contiene los datos de un .wav y retorna un arreglo de dos elementos:\n",
    "#el primero es la transformada discreta de Fourier y el segundo son las frecuencias asociadas.\n",
    "def fourier(archivo2):\n",
    "    global sampling\n",
    "    global dt\n",
    "    global N\n",
    "    transformada = fft(archivo2)\n",
    "    dt = 1/sampling\n",
    "    frecuencias = fftfreq(N,dt)\n",
    "    final = array([frecuencias, abs(transformada)])\n",
    "    return final"
   ]
  },
  {
   "cell_type": "code",
   "execution_count": 125,
   "metadata": {
    "collapsed": true
   },
   "outputs": [],
   "source": [
    "#Nombre: Graf\n",
    "#Parámetros: x,y -arreglos. Los arreglos a ser graficados sobre el eje correspondiente.\n",
    "#Parámetros: labelX -String entre comillas. El label del eje X\n",
    "#Esta función permite crear un scatter plot de los datos dados en los arreglos de parámetro.\n",
    "def graf(x,y,labelX):\n",
    "    figure(figsize=(7,5))\n",
    "    scatter(x,y,s=2)\n",
    "    xlim(-1000,1000)\n",
    "    xlabel(labelX)"
   ]
  },
  {
   "cell_type": "markdown",
   "metadata": {},
   "source": [
    "##Ejecución de Análisis\n",
    "En esta sección se emplean las funciones definidas previamente para determinar las frecuencias fundamentales en el archivo de audio utilizado.\n",
    "###Audio de Una Nota\n",
    "Para una prueba inicial, se utiliza un archivo de audio obtenido al grabar una guitarra tocando la nota LA, la cual tiene una frecuencia teórica de 440Hz."
   ]
  },
  {
   "cell_type": "code",
   "execution_count": 126,
   "metadata": {
    "collapsed": false
   },
   "outputs": [
    {
     "name": "stdout",
     "output_type": "stream",
     "text": [
      "Duración: 7.937 segundos\n"
     ]
    },
    {
     "name": "stderr",
     "output_type": "stream",
     "text": [
      "/Users/usuario/anaconda/lib/python3.4/site-packages/scipy/io/wavfile.py:172: WavFileWarning: Chunk (non-data) not understood, skipping it.\n",
      "  WavFileWarning)\n"
     ]
    },
    {
     "data": {
      "image/png": "[encoded data removed]",
      "text/plain": [
       "<matplotlib.figure.Figure at 0x11ecddc50>"
      ]
     },
     "metadata": {},
     "output_type": "display_data"
    }
   ],
   "source": [
    "prueba1 = leer(\"A440.wav\") #Obtener la información del archivo de audio.\n",
    "arregloMusical = prueba1[0] #El arreglo que define el archivo de audio.\n",
    "tiempo = prueba1[2]\n",
    "\n",
    "figure(figsize=(7,5))\n",
    "plot(tiempo,arregloMusical) #Visualizar el arreglo del archivo de audio.\n",
    "#Las siguientes líneas corresponden a la configuración estética de la gráfica.\n",
    "xlabel(\"Tiempo/s\")\n",
    "grid(True)\n",
    "duracion = np.round(N*(1/sampling), 3)\n",
    "print(\"Duración: \" + str(duracion) + \" segundos\")"
   ]
  },
  {
   "cell_type": "markdown",
   "metadata": {},
   "source": [
    "A continuación, y contando ya con el arreglo de enteros de tipo int16 que define el archivo de audio, se procede a trasladarlos al dominio de la frecuencia, de manera que sea posible determinar la frecuencia fundamental que caracteriza el audio."
   ]
  },
  {
   "cell_type": "code",
   "execution_count": 127,
   "metadata": {
    "collapsed": false
   },
   "outputs": [
    {
     "name": "stdout",
     "output_type": "stream",
     "text": [
      "Frecuencia Fundamental: 440.971 Hz\n"
     ]
    }
   ],
   "source": [
    "trans = fourier(arregloMusical)[1] #Los datos transformados por la función fourier()\n",
    "freq = fourier(arregloMusical)[0] #Las frecuencias asociadas.\n",
    "\n",
    "maximo = max(trans) #El máximo valor de las transformadas.\n",
    "#Se necesita este valor pues será la frecuencia fundamental la que tendrá asociado este valor, por lo que es un\n",
    "#estimador para hallarla.\n",
    "\n",
    "#Este procedimiento permite buscar la frecuencia que tiene asociado el valor máximo de los valores\n",
    "#transformados. Se utiliza el comando break debido a que el archivo puede llegar a tener una extensión que\n",
    "#demore mucho el ciclo, por lo que se busca terminarlo apenas se determine la frecuencia fundamental.\n",
    "for i in range(len(trans)):\n",
    "    if(trans[i] == maximo):\n",
    "        frecuencia = np.round(freq[i], 3)\n",
    "        print(\"Frecuencia Fundamental: \" + str(frecuencia) + \" Hz\")\n",
    "        break"
   ]
  },
  {
   "cell_type": "code",
   "execution_count": 128,
   "metadata": {
    "collapsed": false
   },
   "outputs": [
    {
     "data": {
      "image/png": "[encoded data removed]",
      "text/plain": [
       "<matplotlib.figure.Figure at 0x120848780>"
      ]
     },
     "metadata": {},
     "output_type": "display_data"
    }
   ],
   "source": [
    "graf(freq, trans, \"Frecuencia/Hz\") #Visualización de las frecuencias."
   ]
  },
  {
   "cell_type": "markdown",
   "metadata": {},
   "source": [
    "###Audio de 2 Notas separadas\n",
    "Ahora se analizará un archivo de audio que contiene un pulso compuesto de dos notas, A de 440Hz y A de 220Hz."
   ]
  },
  {
   "cell_type": "code",
   "execution_count": 130,
   "metadata": {
    "collapsed": false
   },
   "outputs": [
    {
     "name": "stdout",
     "output_type": "stream",
     "text": [
      "Duración: 8.083 segundos\n"
     ]
    },
    {
     "name": "stderr",
     "output_type": "stream",
     "text": [
      "/Users/usuario/anaconda/lib/python3.4/site-packages/scipy/io/wavfile.py:172: WavFileWarning: Chunk (non-data) not understood, skipping it.\n",
      "  WavFileWarning)\n"
     ]
    },
    {
     "data": {
      "image/png": "[encoded data removed]",
      "text/plain": [
       "<matplotlib.figure.Figure at 0x11e0b1b00>"
      ]
     },
     "metadata": {},
     "output_type": "display_data"
    }
   ],
   "source": [
    "prueba2 = leer(\"A440then220.wav\") #Obtener la información del archivo de audio.\n",
    "arregloMusical = prueba2[0] #El arreglo que define el archivo de audio.\n",
    "tiempo = prueba2[2]\n",
    "\n",
    "figure(figsize=(7,5))\n",
    "plot(tiempo,arregloMusical) #Visualizar el arreglo del archivo de audio.\n",
    "#Las siguientes líneas corresponden a la configuración estética de la gráfica.\n",
    "xlabel(\"Tiempo/s\")\n",
    "grid(True)\n",
    "duracion = np.round(N*(1/sampling), 3)\n",
    "print(\"Duración: \" + str(duracion) + \" segundos\")"
   ]
  },
  {
   "cell_type": "markdown",
   "metadata": {},
   "source": [
    "Para realizar el análisis de las dos notas en el tiempo resulta necesario dividir el arreglo que define el archivo de audio en dos arreglos, de manera que cada uno contenga cada nota tocada."
   ]
  },
  {
   "cell_type": "markdown",
   "metadata": {},
   "source": [
    "####Primera Nota"
   ]
  },
  {
   "cell_type": "code",
   "execution_count": 131,
   "metadata": {
    "collapsed": false
   },
   "outputs": [
    {
     "data": {
      "image/png": "[encoded data removed]",
      "text/plain": [
       "<matplotlib.figure.Figure at 0x11e0b9550>"
      ]
     },
     "metadata": {},
     "output_type": "display_data"
    }
   ],
   "source": [
    "#División de arreglos\n",
    "newArray1 = arregloMusical[0:N/2]\n",
    "newTime1 = tiempo[0:N/2]\n",
    "\n",
    "figure(figsize=(7,5))\n",
    "plot(newTime1, newArray1)\n",
    "xlabel(\"Tiempo/s\")\n",
    "grid(True)"
   ]
  },
  {
   "cell_type": "code",
   "execution_count": 132,
   "metadata": {
    "collapsed": false
   },
   "outputs": [
    {
     "name": "stdout",
     "output_type": "stream",
     "text": [
      "Frecuencia Fundamental de la primera nota: 441.146 Hz\n"
     ]
    }
   ],
   "source": [
    "#Análisis de Fourier\n",
    "N = len(newArray1) #Actualizar el valor de N según el nuevo arreglo\n",
    "trans = fourier(newArray1)[1] #Los datos transformados por la función fourier()\n",
    "freq = fourier(newArray1)[0] #Las frecuencias asociadas.\n",
    "\n",
    "maximo = max(trans) #El máximo valor de las transformadas.\n",
    "#Se necesita este valor pues será la frecuencia fundamental la que tendrá asociado este valor, por lo que es un\n",
    "#estimador para hallarla.\n",
    "\n",
    "#Este procedimiento permite buscar la frecuencia que tiene asociado el valor máximo de los valores\n",
    "#transformados. Se utiliza el comando break debido a que el archivo puede llegar a tener una extensión que\n",
    "#demore mucho el ciclo, por lo que se busca terminarlo apenas se determine la frecuencia fundamental.\n",
    "for i in range(len(trans)):\n",
    "    if(trans[i] == maximo):\n",
    "        frecuencia = np.round(freq[i], 3)\n",
    "        print(\"Frecuencia Fundamental de la primera nota: \" + str(frecuencia) + \" Hz\")\n",
    "        break"
   ]
  },
  {
   "cell_type": "code",
   "execution_count": 133,
   "metadata": {
    "collapsed": false
   },
   "outputs": [
    {
     "data": {
      "image/png": "[encoded data removed]",
      "text/plain": [
       "<matplotlib.figure.Figure at 0x10ede8160>"
      ]
     },
     "metadata": {},
     "output_type": "display_data"
    }
   ],
   "source": [
    "graf(freq, trans, \"Frecuencia/Hz\") #Visualización de las frecuencias."
   ]
  },
  {
   "cell_type": "markdown",
   "metadata": {},
   "source": [
    "####Segunda Nota"
   ]
  },
  {
   "cell_type": "code",
   "execution_count": 134,
   "metadata": {
    "collapsed": false
   },
   "outputs": [
    {
     "data": {
      "image/png": "[encoded data removed]",
      "text/plain": [
       "<matplotlib.figure.Figure at 0x11cba5198>"
      ]
     },
     "metadata": {},
     "output_type": "display_data"
    }
   ],
   "source": [
    "#División de arreglos\n",
    "N = len(arregloMusical)\n",
    "newArray2 = arregloMusical[N/2:-1]\n",
    "newTime2 = tiempo[N/2:-1]\n",
    "\n",
    "figure(figsize=(7,5))\n",
    "plot(newTime2, newArray2)\n",
    "xlabel(\"Tiempo/s\")\n",
    "grid(True)"
   ]
  },
  {
   "cell_type": "code",
   "execution_count": 136,
   "metadata": {
    "collapsed": false
   },
   "outputs": [],
   "source": [
    "#Análisis de Fourier\n",
    "N = len(newArray2) #Actualizar el valor de N según el nuevo arreglo\n",
    "trans2 = fourier(newArray2)[1] #Los datos transformados por la función fourier()\n",
    "freq2 = fourier(newArray2)[0] #Las frecuencias asociadas."
   ]
  },
  {
   "cell_type": "code",
   "execution_count": 137,
   "metadata": {
    "collapsed": false
   },
   "outputs": [
    {
     "data": {
      "image/png": "[encoded data removed]",
      "text/plain": [
       "<matplotlib.figure.Figure at 0x1205b5588>"
      ]
     },
     "metadata": {},
     "output_type": "display_data"
    }
   ],
   "source": [
    "graf(freq2, trans2, \"Frecuencia/Hz\") #Visualización de las frecuencias."
   ]
  },
  {
   "cell_type": "markdown",
   "metadata": {},
   "source": [
    "Debido a que se está analizando la misma nota pero con distinta frecuencia, se debe tomar este arreglo de transformadas y frecuencias y filtrarlo de manera que ya no se tome en cuenta la frecuencia hallada anteriormente."
   ]
  },
  {
   "cell_type": "code",
   "execution_count": 118,
   "metadata": {
    "collapsed": true
   },
   "outputs": [],
   "source": [
    "#Filtrado\n",
    "transF = []\n",
    "freqF = []\n",
    "limF = 1*10**7\n",
    "for i in range(len(trans2)):\n",
    "    if(trans2[i] < limF):\n",
    "        transF.append(trans2[i])\n",
    "        freqF.append(freq2[i])"
   ]
  },
  {
   "cell_type": "code",
   "execution_count": 124,
   "metadata": {
    "collapsed": false
   },
   "outputs": [
    {
     "data": {
      "text/plain": [
       "<matplotlib.text.Text at 0x11ece5208>"
      ]
     },
     "execution_count": 124,
     "metadata": {},
     "output_type": "execute_result"
    },
    {
     "data": {
      "image/png": "[encoded data removed]",
      "text/plain": [
       "<matplotlib.figure.Figure at 0x11ecd5550>"
      ]
     },
     "metadata": {},
     "output_type": "display_data"
    }
   ],
   "source": [
    "graf(freqF, transF, \"Frecuencia/Hz\") #Visualización de las frecuencias\n",
    "title(\"Datos Filtrados\")"
   ]
  },
  {
   "cell_type": "markdown",
   "metadata": {},
   "source": [
    "Sobre este nuevo arreglo ya es posible encontrar la frecuencia fundamental, pues ya se omite la que se halló anteriormente para la misma nota."
   ]
  },
  {
   "cell_type": "code",
   "execution_count": 139,
   "metadata": {
    "collapsed": false
   },
   "outputs": [
    {
     "name": "stdout",
     "output_type": "stream",
     "text": [
      "Frecuencia Fundamental de la segunda nota: 221.193 Hz\n"
     ]
    }
   ],
   "source": [
    "#Análisis de Fourier\n",
    "maximo = max(transF) #El máximo valor de las transformadas.\n",
    "#Se necesita este valor pues será la frecuencia fundamental la que tendrá asociado este valor, por lo que es un\n",
    "#estimador para hallarla.\n",
    "\n",
    "#Este procedimiento permite buscar la frecuencia que tiene asociado el valor máximo de los valores\n",
    "#transformados. Se utiliza el comando break debido a que el archivo puede llegar a tener una extensión que\n",
    "#demore mucho el ciclo, por lo que se busca terminarlo apenas se determine la frecuencia fundamental.\n",
    "for i in range(len(transF)):\n",
    "    if(transF[i] == maximo):\n",
    "        frecuencia = np.round(freqF[i], 3)\n",
    "        print(\"Frecuencia Fundamental de la segunda nota: \" + str(frecuencia) + \" Hz\")\n",
    "        break"
   ]
  },
  {
   "cell_type": "code",
   "execution_count": 147,
   "metadata": {
    "collapsed": false
   },
   "outputs": [
    {
     "name": "stdout",
     "output_type": "stream",
     "text": [
      "Tabla 1: Frecuencias Fundamentales para dos La's\n",
      "+------+----------------------------+\n",
      "| Nota | Frecuencia Fundamental(Hz) |\n",
      "+------+----------------------------+\n",
      "|  La  |          441.146           |\n",
      "|  La  |          221.193           |\n",
      "+------+----------------------------+\n"
     ]
    }
   ],
   "source": [
    "tabla = PrettyTable([\"Nota\",\"Frecuencia Fundamental(Hz)\"])\n",
    "tabla.add_row([\"La\", 441.146])\n",
    "tabla.add_row([\"La\", 221.193])\n",
    "print(\"Tabla 1: Frecuencias Fundamentales para dos La's\")\n",
    "print(tabla)"
   ]
  },
  {
   "cell_type": "markdown",
   "metadata": {},
   "source": [
    "En la tabla 1 pueden observarse las dos frecuencias fundamentales obtenidas que definen las dos notas tocadas a lo largo del tiempo. Dado que la primera nota se toca durante 2 segundos, hay una pausa de 2 segundos y luego la siguiente se toca durante 2 segundos para terminar con un silencio de 2 segundos, es posible entonces entender que cada frecuencia se toca durante 2 segundos, con un intervalo de silencio de 2 segundos entre ellas. Este hecho se utilizará para la simulación de la guitarra."
   ]
  },
  {
   "cell_type": "markdown",
   "metadata": {},
   "source": [
    "###Audio de Dos Pulsos de Dos Notas\n",
    "Para continuar con la prueba del sistema de análisis de audio construido, se utilizará ahora un archivo de audio obtenido de grabar una guitarra tocando primero las notas G y B juntas, para después de 2 segundos tocar D y F juntas."
   ]
  },
  {
   "cell_type": "code",
   "execution_count": 106,
   "metadata": {
    "collapsed": false
   },
   "outputs": [
    {
     "name": "stdout",
     "output_type": "stream",
     "text": [
      "Duración: 10.36 segundos\n"
     ]
    },
    {
     "name": "stderr",
     "output_type": "stream",
     "text": [
      "/Users/usuario/anaconda/lib/python3.4/site-packages/scipy/io/wavfile.py:172: WavFileWarning: Chunk (non-data) not understood, skipping it.\n",
      "  WavFileWarning)\n"
     ]
    },
    {
     "data": {
      "image/png": "[encoded data removed]",
      "text/plain": [
       "<matplotlib.figure.Figure at 0x10eec7828>"
      ]
     },
     "metadata": {},
     "output_type": "display_data"
    }
   ],
   "source": [
    "prueba1 = leer(\"G&BthenD&F.wav\") #Obtener la información del archivo de audio.\n",
    "arregloMusical = prueba1[0] #El arreglo que define el archivo de audio.\n",
    "tiempo = prueba1[2]\n",
    "figure(figsize=(7,5))\n",
    "plot(tiempo,arregloMusical) #Visualizar el arreglo del archivo de audio.\n",
    "#Las siguientes líneas corresponden a la configuración estética de la gráfica.\n",
    "xlabel(\"Tiempo/s\")\n",
    "grid(True)\n",
    "duracion = np.round(N*(1/sampling), 3)\n",
    "print(\"Duración: \" + str(duracion) + \" segundos\")"
   ]
  },
  {
   "cell_type": "markdown",
   "metadata": {},
   "source": [
    "Para realizar un análisis correcto de este archivo de audio utilizando la transformada de Fourier, es necesario dividir el arreglo que define este audio en 2 arreglos, cada uno conteniendo los pulsos que se observan en la figura anterior. De esta forma será posible determinar las dos frecuencias fundamentales que definen las notas que deben tocarse en cada pulso. Para hacer esta división, se tiene en cuenta que hubo una separación temporal de 2 segundos entre cada pulso de 2 notas, por lo que se toma el número de datos N y se construyen dos arreglos; uno que vaya del dato inicial hasta el de la mitad, y otro que vaya de ese hasta el último."
   ]
  },
  {
   "cell_type": "markdown",
   "metadata": {},
   "source": [
    "####Primer Pulso"
   ]
  },
  {
   "cell_type": "code",
   "execution_count": 107,
   "metadata": {
    "collapsed": false
   },
   "outputs": [
    {
     "data": {
      "text/plain": [
       "<matplotlib.text.Text at 0x10e99d4a8>"
      ]
     },
     "execution_count": 107,
     "metadata": {},
     "output_type": "execute_result"
    },
    {
     "data": {
      "image/png": "[encoded data removed]",
      "text/plain": [
       "<matplotlib.figure.Figure at 0x112b2c6d8>"
      ]
     },
     "metadata": {},
     "output_type": "display_data"
    }
   ],
   "source": [
    "group1 = arregloMusical[0:N/2]\n",
    "time1 = tiempo[0:N/2]\n",
    "\n",
    "figure(figsize=(7,5))\n",
    "plot(time1, group1)\n",
    "xlabel(\"Tiempo/s\")"
   ]
  },
  {
   "cell_type": "code",
   "execution_count": 108,
   "metadata": {
    "collapsed": false
   },
   "outputs": [
    {
     "data": {
      "text/plain": [
       "<matplotlib.text.Text at 0x10ed5da58>"
      ]
     },
     "execution_count": 108,
     "metadata": {},
     "output_type": "execute_result"
    },
    {
     "data": {
      "image/png": "[encoded data removed]",
      "text/plain": [
       "<matplotlib.figure.Figure at 0x112b3cd30>"
      ]
     },
     "metadata": {},
     "output_type": "display_data"
    }
   ],
   "source": [
    "N = len(group1) #Actualizar el valor de N después de dividir los arreglos.\n",
    "trans1 = fourier(group1)[1]#Los datos transformados por la función fourier()\n",
    "freq1 = fourier(group1)[0] #Las frecuencias asociadas.\n",
    "\n",
    "maximo = max(trans1) #El máximo valor de las transformadas.\n",
    "#Se necesita este valor pues será la frecuencia fundamental la que tendrá asociado este valor, por lo que es un\n",
    "#estimador para hallarla.\n",
    "\n",
    "#Este procedimiento permite buscar la frecuencia que tiene asociado el valor máximo de los valores\n",
    "#transformados. Se utiliza el comando break debido a que el archivo puede llegar a tener una extensión que\n",
    "#demore mucho el ciclo, por lo que se busca terminarlo apenas se determine la frecuencia fundamental.\n",
    "frecuencias = []\n",
    "#Hallar primer máximo\n",
    "for i in range(len(trans1)):\n",
    "    if(trans1[i] == maximo):\n",
    "        frecuencias.append(abs(freq1[i]))\n",
    "        break\n",
    "\n",
    "scatter(freq1, trans1, s = 2)\n",
    "xlim(-1000,1000)\n",
    "xlabel(\"Frecuencia/Hz\")"
   ]
  },
  {
   "cell_type": "markdown",
   "metadata": {},
   "source": [
    "Ya que en este caso se busca hallar 2 frecuencias fundamentales, se utilizará primero el arreglo en el dominio de la frecuencia obtenido para determinar la primera frecuencia fundamental. Luego, se creará un nuevo arreglo donde se eliminen los máximos que definían esa frecuencia, de manera que los nuevos máximos sean los de la segunda frecuencia fundamental."
   ]
  },
  {
   "cell_type": "code",
   "execution_count": 109,
   "metadata": {
    "collapsed": true
   },
   "outputs": [],
   "source": [
    "#Para hallar la primera frecuencia fundamental, simplemente se busca la frecuencia asociada al máximo del\n",
    "#arreglo de datos transformados. Se utiliza el break para hacer más eficiente el proceso.\n",
    "frecuencia = []\n",
    "maximo = max(trans1)\n",
    "for i in range(len(trans1)):\n",
    "    if(trans1[i] == maximo):\n",
    "        frecuencia.append(freq1[i])\n",
    "        break"
   ]
  },
  {
   "cell_type": "code",
   "execution_count": 110,
   "metadata": {
    "collapsed": false
   },
   "outputs": [],
   "source": [
    "#Se crea un nuevo arreglo que ya no contenga los datos máximos asociados a la frecuencia fndamental ya hallada,\n",
    "#de manera que el nuevo máximo esté asociado a la segunda drecuencia fundamental.\n",
    "lim = 1.3*10**7 #Límite de corte\n",
    "nuevoArreglo2 = []\n",
    "newFreq2 = []\n",
    "for i in range(len(trans1)):\n",
    "    if(trans1[i] < lim):\n",
    "        nuevoArreglo2.append(trans1[i])\n",
    "        newFreq2.append(freq1[i])"
   ]
  },
  {
   "cell_type": "code",
   "execution_count": 111,
   "metadata": {
    "collapsed": false
   },
   "outputs": [],
   "source": [
    "#Similar a como se halló la primera frecuencia fundamental, se halla la segunda asociando una frecuencia a el máximo\n",
    "#del arreglo de datos transformados. Esta y la anterior se guardan en el arreglo frecuencia.\n",
    "maximo2 = max(nuevoArreglo2)\n",
    "for i in range(len(nuevoArreglo2)):\n",
    "    if(nuevoArreglo2[i] == maximo2):\n",
    "        frecuencia.append(newFreq2[i])\n",
    "        break"
   ]
  },
  {
   "cell_type": "code",
   "execution_count": 112,
   "metadata": {
    "collapsed": false
   },
   "outputs": [
    {
     "name": "stdout",
     "output_type": "stream",
     "text": [
      "Las frecuencias fundamentales son: 496.15 Hz y 97.879 Hz\n"
     ]
    }
   ],
   "source": [
    "frecuencia1 = np.round(frecuencia[0],3) #Presentación aproximada de frecuencias obtenidas a 3 decimales.\n",
    "frecuencia2 = np.round(frecuencia[1],3)\n",
    "print(\"Las frecuencias fundamentales son: \" + str(frecuencia1) + \" Hz y \" + str(frecuencia2) + \" Hz\")"
   ]
  },
  {
   "cell_type": "markdown",
   "metadata": {},
   "source": [
    "####Segundo Pulso"
   ]
  },
  {
   "cell_type": "code",
   "execution_count": 29,
   "metadata": {
    "collapsed": false
   },
   "outputs": [
    {
     "data": {
      "text/plain": [
       "<matplotlib.text.Text at 0x10efa8f28>"
      ]
     },
     "execution_count": 29,
     "metadata": {},
     "output_type": "execute_result"
    },
    {
     "data": {
      "image/png": "[encoded data removed]",
      "text/plain": [
       "<matplotlib.figure.Figure at 0x10efada20>"
      ]
     },
     "metadata": {},
     "output_type": "display_data"
    }
   ],
   "source": [
    "group2 = arregloMusical[N:-1]\n",
    "time2 = tiempo[N:-1]\n",
    "plot(time2, group2)\n",
    "xlabel(\"Tiempo/s\")"
   ]
  },
  {
   "cell_type": "code",
   "execution_count": 36,
   "metadata": {
    "collapsed": false
   },
   "outputs": [
    {
     "data": {
      "text/plain": [
       "<matplotlib.text.Text at 0x10de6d5c0>"
      ]
     },
     "execution_count": 36,
     "metadata": {},
     "output_type": "execute_result"
    },
    {
     "data": {
      "image/png": "[encoded data removed]",
      "text/plain": [
       "<matplotlib.figure.Figure at 0x10d8e7be0>"
      ]
     },
     "metadata": {},
     "output_type": "display_data"
    }
   ],
   "source": [
    "N = len(group2) #Actualizar N según el nueo arreglo.\n",
    "trans2 = fourier(group2)[1] #Los datos transformados por la función fourier()\n",
    "freq2 = fourier(group2)[0] #Las frecuencias asociadas.\n",
    "\n",
    "maximoB = max(trans2) #El máximo valor de las transformadas.\n",
    "#Se necesita este valor pues será la frecuencia fundamental la que tendrá asociado este valor, por lo que es un\n",
    "#estimador para hallarla.\n",
    "\n",
    "#Este procedimiento permite buscar la frecuencia que tiene asociado el valor máximo de los valores\n",
    "#transformados. Se utiliza el comando break debido a que el archivo puede llegar a tener una extensión que\n",
    "#demore mucho el ciclo, por lo que se busca terminarlo apenas se determine la frecuencia fundamental.\n",
    "#Hallar primer máximo\n",
    "for i in range(len(trans2)):\n",
    "    if(trans2[i] == maximoB):\n",
    "        frecuencias.append(abs(freq2[i]))\n",
    "        break\n",
    "\n",
    "scatter(freq2, trans2, s = 2)\n",
    "xlim(-1000,1000)\n",
    "xlabel(\"Frecuencia/Hz\")"
   ]
  },
  {
   "cell_type": "code",
   "execution_count": 32,
   "metadata": {
    "collapsed": true
   },
   "outputs": [],
   "source": [
    "#Para hallar la primera frecuencia fundamental, simplemente se busca la frecuencia asociada al máximo del\n",
    "#arreglo de datos transformados. Se utiliza el break para hacer más eficiente el proceso.\n",
    "frecuencias = []\n",
    "maximoQ = max(trans2)\n",
    "for i in range(len(trans2)):\n",
    "    if(trans2[i] == maximoQ):\n",
    "        frecuencias.append(freq2[i])\n",
    "        break"
   ]
  },
  {
   "cell_type": "code",
   "execution_count": 33,
   "metadata": {
    "collapsed": true
   },
   "outputs": [],
   "source": [
    "lim = 1.5*10**7 #Límite de corte\n",
    "nuevoArreglo2 = []\n",
    "newFreq2 = []\n",
    "for i in range(len(trans2)):\n",
    "    if(trans2[i] < lim):\n",
    "        nuevoArreglo2.append(trans2[i])\n",
    "        newFreq2.append(freq2[i])"
   ]
  },
  {
   "cell_type": "code",
   "execution_count": 34,
   "metadata": {
    "collapsed": true
   },
   "outputs": [],
   "source": [
    "maximo2 = max(nuevoArreglo2)\n",
    "for i in range(len(nuevoArreglo2)):\n",
    "    if(nuevoArreglo2[i] == maximo2):\n",
    "        frecuencias.append(newFreq2[i])\n",
    "        break"
   ]
  },
  {
   "cell_type": "code",
   "execution_count": 41,
   "metadata": {
    "collapsed": false
   },
   "outputs": [
    {
     "name": "stdout",
     "output_type": "stream",
     "text": [
      "Las frecuencias fundamentales son: 370.666Hz y 295.568 Hz\n"
     ]
    }
   ],
   "source": [
    "frecuencia1 = np.round(frecuencias[0],3) #Presentación aproximada de las frecuencias obtenidas a 3 decimales.\n",
    "frecuencia2 = np.round(frecuencias[1],3)\n",
    "print(\"Las frecuencias fundamentales son: \" + str(frecuencia1) + \"Hz y \" + str(frecuencia2) + \" Hz\")"
   ]
  },
  {
   "cell_type": "code",
   "execution_count": 148,
   "metadata": {
    "collapsed": false
   },
   "outputs": [
    {
     "name": "stdout",
     "output_type": "stream",
     "text": [
      "Tabla 2: Frecuencias fundamentales para dos pulsos de 2 notas\n",
      "+-------+------+----------------------------+\n",
      "| Pulso | Nota | Frecuencia Fundamental(Hz) |\n",
      "+-------+------+----------------------------+\n",
      "|   1   |  B   |           496.15           |\n",
      "|   1   |  G   |           97.879           |\n",
      "|   2   |  F#  |          370.666           |\n",
      "|   2   |  D   |          295.568           |\n",
      "+-------+------+----------------------------+\n"
     ]
    }
   ],
   "source": [
    "tabla2 = PrettyTable([\"Pulso\",\"Nota\",\"Frecuencia Fundamental(Hz)\"])\n",
    "tabla2.add_row([1, \"B\", 496.15])\n",
    "tabla2.add_row([1, \"G\", 97.879])\n",
    "tabla2.add_row([2, \"F#\" , 370.666])\n",
    "tabla2.add_row([2, \"D\" , 295.568])\n",
    "print(\"Tabla 2: Frecuencias fundamentales para dos pulsos de 2 notas\")\n",
    "print(tabla2)"
   ]
  },
  {
   "cell_type": "markdown",
   "metadata": {},
   "source": [
    "En la tabla 2 pueden observarse las frecuencias fundamentales contenidas en los diferentes pulsos estudiados, al igual que la nota a la que corresponden. Dado que cada pulso dura 2 segundos y entre ellos existe un intervalo de silencio de 2 segundos que los separa, esta información de frecuencia tocada a lo largo del tiempo se utilizará para la simulación de la guitarra."
   ]
  },
  {
   "cell_type": "markdown",
   "metadata": {},
   "source": [
    "#Bibliografía\n",
    "* "
   ]
  },
  {
   "cell_type": "code",
   "execution_count": null,
   "metadata": {
    "collapsed": true
   },
   "outputs": [],
   "source": []
  }
 ],
 "metadata": {
  "kernelspec": {
   "display_name": "Python 3",
   "language": "python",
   "name": "python3"
  },
  "language_info": {
   "codemirror_mode": {
    "name": "ipython",
    "version": 3
   },
   "file_extension": ".py",
   "mimetype": "text/x-python",
   "name": "python",
   "nbconvert_exporter": "python",
   "pygments_lexer": "ipython3",
   "version": "3.4.3"
  }
 },
 "nbformat": 4,
 "nbformat_minor": 0
}
