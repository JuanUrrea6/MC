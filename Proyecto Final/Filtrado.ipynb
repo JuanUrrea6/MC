{
 "cells": [
  {
   "cell_type": "code",
   "execution_count": 1,
   "metadata": {
    "collapsed": false
   },
   "outputs": [
    {
     "name": "stdout",
     "output_type": "stream",
     "text": [
      "Populating the interactive namespace from numpy and matplotlib\n"
     ]
    }
   ],
   "source": [
    "%pylab inline\n",
    "from scipy.fftpack import *\n",
    "from scipy.io.wavfile import *"
   ]
  },
  {
   "cell_type": "markdown",
   "metadata": {},
   "source": [
    "#Análisis de Frecuencias\n",
    "##Construción de Funciones"
   ]
  },
  {
   "cell_type": "markdown",
   "metadata": {},
   "source": [
    "En esta seción se construyen las funciones sobre las cuales se basa todo el estudio de las frecuencias contenidas en los archivos de audio utilizados. Primero, se establacen las constantes que serán modificadas cada vez que las funciones se empleen sobre un archivo **.wav** distinto. Luego, se construyen como tal las funciones **leer()** y **fourier**, las cuales permiten obtener el arreglo de enteros de tipo int16 del archivo de audio y su frecuencia de muestreo, con **leer()**, y obtener la respectiva transformada de Fourier en el dominio de la Frecuencia de este arreglo y las frecuencias asociadas, con **fourier()**."
   ]
  },
  {
   "cell_type": "code",
   "execution_count": 79,
   "metadata": {
    "collapsed": true
   },
   "outputs": [],
   "source": [
    "#Algunas constantes que serán modificadas por las funciones.\n",
    "sampling = 0 #La frecuencia de muestreo del archivo de audio analizado. (Tipo= int)\n",
    "dt = 0 #El diferencial de tiempo que define el menor salto de tiempo en el archivo. (Tipo = int)\n",
    "N = 0 #La cantidad de datos en el archivo de audio. (Tipo = int)\n",
    "t = []"
   ]
  },
  {
   "cell_type": "code",
   "execution_count": 81,
   "metadata": {
    "collapsed": true
   },
   "outputs": [],
   "source": [
    "#Nombre: Leer\n",
    "#Parámetros: archivo- El nombre completo del archivo, junto con la extensión .wav.\n",
    "#Parámetros: graficar- Booleano. De ser True, grafica los datos obtenidos del archivo importado.\n",
    "#Este método importa un archivo escrito como .wav, para luego retornar un arreglo que contiene todos los datos\n",
    "#contenidos en dicho archivo, la frecuencia de sampling del archivo .wav y el arreglo de duración temporal propio.\n",
    "def leer(archivo):\n",
    "    global sampling\n",
    "    global t\n",
    "    global N\n",
    "    datosGeneral = read(archivo)\n",
    "    original = datosGeneral[1]\n",
    "    sampling = datosGeneral[0]\n",
    "    N = len(original)\n",
    "    t = linspace(0, N*(1/sampling), N)\n",
    "    return array([original, sampling, t])"
   ]
  },
  {
   "cell_type": "code",
   "execution_count": 75,
   "metadata": {
    "collapsed": true
   },
   "outputs": [],
   "source": [
    "#Nombre: Fourier\n",
    "#Parámetros: archivo- El nombre del archivo generado por la función Leer.\n",
    "#Parámetros: graficar- Booleano que, de ser True, permite a la función graficar la transformada de Fourier realizada\n",
    "#Este método recibe un archivo que contiene los datos de un .wav y retorna un arreglo de dos elementos:\n",
    "#el primero es la transformada discreta de Fourier y el segundo son las frecuencias asociadas.\n",
    "def fourier(archivo2):\n",
    "    global sampling\n",
    "    global dt\n",
    "    global N\n",
    "    transformada = fft(archivo2)\n",
    "    dt = 1/sampling\n",
    "    frecuencias = fftfreq(N,dt)\n",
    "    final = array([frecuencias, abs(transformada)])\n",
    "    return final"
   ]
  },
  {
   "cell_type": "markdown",
   "metadata": {},
   "source": [
    "##Ejecución de Análisis\n",
    "En esta sección se emplean las funciones definidas previamente para determinar las frecuencias fundamentales en el archivo de audio utilizado.\n",
    "###Audio de Frecuencia Única\n",
    "Para una prueba inicial, se utiliza un archivo de audio obtenido al grabar una guitarra tocando la nota LA, la cual tiene una frecuencia teórica de 440Hz."
   ]
  },
  {
   "cell_type": "code",
   "execution_count": 89,
   "metadata": {
    "collapsed": false
   },
   "outputs": [
    {
     "name": "stdout",
     "output_type": "stream",
     "text": [
      "Duración: 7.93702947845805 segundos\n"
     ]
    },
    {
     "name": "stderr",
     "output_type": "stream",
     "text": [
      "/Users/usuario/anaconda/lib/python3.4/site-packages/scipy/io/wavfile.py:172: WavFileWarning: Chunk (non-data) not understood, skipping it.\n",
      "  WavFileWarning)\n"
     ]
    },
    {
     "data": {
      "image/png": "[encoded data removed]",
      "text/plain": [
       "<matplotlib.figure.Figure at 0x103ce7d68>"
      ]
     },
     "metadata": {},
     "output_type": "display_data"
    }
   ],
   "source": [
    "prueba1 = leer(\"A440.wav\") #Obtener la información del archivo de audio.\n",
    "arregloMusical = prueba1[0] #El arreglo que define el archivo de audio.\n",
    "tiempo = prueba1[2]\n",
    "plot(tiempo,arregloMusical) #Visualizar el arreglo del archivo de audio.\n",
    "#Las siguientes líneas corresponden a la configuración estética de la gráfica.\n",
    "xlabel(\"Tiempo/s\")\n",
    "grid(True)\n",
    "print(\"Duración: \" + str(N*(1/sampling)) + \" segundos\")"
   ]
  },
  {
   "cell_type": "markdown",
   "metadata": {},
   "source": [
    "A continuación, y contando ya con el arreglo de enteros de tipo int16 que define el archivo de audio, se procede a trasladarlos al dominio de la frecuencia, de manera que sea posible determinar la frecuencia fundamental que caracteriza el audio."
   ]
  },
  {
   "cell_type": "code",
   "execution_count": 91,
   "metadata": {
    "collapsed": false
   },
   "outputs": [
    {
     "name": "stdout",
     "output_type": "stream",
     "text": [
      "Frecuencia Fundamental: 440.971021904 Hz\n"
     ]
    },
    {
     "data": {
      "text/plain": [
       "<matplotlib.text.Text at 0x1050c29b0>"
      ]
     },
     "execution_count": 91,
     "metadata": {},
     "output_type": "execute_result"
    },
    {
     "data": {
      "image/png": "[encoded data removed]",
      "text/plain": [
       "<matplotlib.figure.Figure at 0x1065efd68>"
      ]
     },
     "metadata": {},
     "output_type": "display_data"
    }
   ],
   "source": [
    "trans = fourier(arregloMusical)[1] #Los datos transformados por la función fourier()\n",
    "freq = fourier(arregloMusical)[0] #Las frecuencias asociadas.\n",
    "\n",
    "maximo = max(trans) #El máximo valor de las transformadas.\n",
    "#Se necesita este valor pues será la frecuencia fundamental la que tendrá asociado este valor, por lo que es un\n",
    "#estimador para hallarla.\n",
    "\n",
    "#Este procedimiento permite buscar la frecuencia que tiene asociado el valor máximo de los valores\n",
    "#transformados. Se utiliza el comando break debido a que el archivo puede llegar a tener una extensión que\n",
    "#demore mucho el ciclo, por lo que se busca terminarlo apenas se determine la frecuencia fundamental.\n",
    "for i in range(len(absolute)):\n",
    "    if(absolute[i] == maximo):\n",
    "        print(\"Frecuencia Fundamental: \" + str(freq[i]) + \" Hz\")\n",
    "        break\n",
    "\n",
    "scatter(freq, trans)\n",
    "xlim(-1000,1000)\n",
    "xlabel(\"Frecuencia/Hz\")"
   ]
  },
  {
   "cell_type": "markdown",
   "metadata": {},
   "source": [
    "Tomar el archivo importado y realizar la transformada de Fourier. Esto para dejar los datos en el dominio de la frecuencia y poder realizar el filtro. Luego de tenerlos así, se construirán los arreglos que permiten su visualización gráfica y análisis."
   ]
  },
  {
   "cell_type": "markdown",
   "metadata": {},
   "source": [
    "###Audio de Dos Notas\n",
    "Para continuar con la prueba del sistema de análisis de audio construido, se utilizará ahora un archivo de audio obtenido de grabar una guitarra tocando primero las notas G y B juntas, para después de 2 segundos tocar D y F juntas."
   ]
  },
  {
   "cell_type": "code",
   "execution_count": 156,
   "metadata": {
    "collapsed": false
   },
   "outputs": [
    {
     "name": "stdout",
     "output_type": "stream",
     "text": [
      "Duración: 10.359773242630386 segundos\n"
     ]
    },
    {
     "name": "stderr",
     "output_type": "stream",
     "text": [
      "/Users/usuario/anaconda/lib/python3.4/site-packages/scipy/io/wavfile.py:172: WavFileWarning: Chunk (non-data) not understood, skipping it.\n",
      "  WavFileWarning)\n"
     ]
    },
    {
     "data": {
      "image/png": "[encoded data removed]",
      "text/plain": [
       "<matplotlib.figure.Figure at 0x113707f60>"
      ]
     },
     "metadata": {},
     "output_type": "display_data"
    }
   ],
   "source": [
    "prueba1 = leer(\"G&BthenD&F.wav\") #Obtener la información del archivo de audio.\n",
    "arregloMusical = prueba1[0] #El arreglo que define el archivo de audio.\n",
    "tiempo = prueba1[2]\n",
    "figure(figsize=(7,5))\n",
    "plot(tiempo,arregloMusical) #Visualizar el arreglo del archivo de audio.\n",
    "#Las siguientes líneas corresponden a la configuración estética de la gráfica.\n",
    "xlabel(\"Tiempo/s\")\n",
    "grid(True)\n",
    "print(\"Duración: \" + str(N*(1/sampling)) + \" segundos\")"
   ]
  },
  {
   "cell_type": "markdown",
   "metadata": {},
   "source": [
    "Para realizar un análisis correcto de este archivo de audio utilizando la transformada de Fourier, es necesario dividir el arreglo que define este audio en 2 arreglos, cada uno conteniendo los pulsos que se observan en la figura anterior. De esta forma será posible determinar las dos frecuencias fundamentales que definen las notas que deben tocarse en cada pulso. Para hacer esta división, se tiene en cuenta que hubo una separación temporal de 2 segundos entre cada pulso de 2 notas, por lo que se toma el número de datos N y se construyen dos arreglos; uno que vaya del dato inicial hasta el de la mitad, y otro que vaya de ese hasta el último."
   ]
  },
  {
   "cell_type": "markdown",
   "metadata": {},
   "source": [
    "####Primer Pulso"
   ]
  },
  {
   "cell_type": "code",
   "execution_count": 103,
   "metadata": {
    "collapsed": false
   },
   "outputs": [
    {
     "data": {
      "text/plain": [
       "<matplotlib.text.Text at 0x10949da58>"
      ]
     },
     "execution_count": 103,
     "metadata": {},
     "output_type": "execute_result"
    },
    {
     "data": {
      "image/png": "[encoded data removed]",
      "text/plain": [
       "<matplotlib.figure.Figure at 0x1050a3278>"
      ]
     },
     "metadata": {},
     "output_type": "display_data"
    }
   ],
   "source": [
    "group1 = arregloMusical[0:N/2]\n",
    "time1 = tiempo[0:N/2]\n",
    "plot(time1, group1)\n",
    "xlabel(\"Tiempo/s\")"
   ]
  },
  {
   "cell_type": "code",
   "execution_count": 120,
   "metadata": {
    "collapsed": false
   },
   "outputs": [
    {
     "data": {
      "text/plain": [
       "<matplotlib.text.Text at 0x1137079b0>"
      ]
     },
     "execution_count": 120,
     "metadata": {},
     "output_type": "execute_result"
    },
    {
     "data": {
      "image/png": "[encoded data removed]",
      "text/plain": [
       "<matplotlib.figure.Figure at 0x10df2bfd0>"
      ]
     },
     "metadata": {},
     "output_type": "display_data"
    }
   ],
   "source": [
    "trans = fourier(group1)[1] #Los datos transformados por la función fourier()\n",
    "freq = fourier(group1)[0] #Las frecuencias asociadas.\n",
    "\n",
    "maximo = max(trans) #El máximo valor de las transformadas.\n",
    "#Se necesita este valor pues será la frecuencia fundamental la que tendrá asociado este valor, por lo que es un\n",
    "#estimador para hallarla.\n",
    "\n",
    "#Este procedimiento permite buscar la frecuencia que tiene asociado el valor máximo de los valores\n",
    "#transformados. Se utiliza el comando break debido a que el archivo puede llegar a tener una extensión que\n",
    "#demore mucho el ciclo, por lo que se busca terminarlo apenas se determine la frecuencia fundamental.\n",
    "frecuencias = []\n",
    "#Hallar primer máximo\n",
    "for i in range(len(trans)):\n",
    "    if(trans[i] == maximo):\n",
    "        frecuencias.append(abs(freq[i]))\n",
    "        break\n",
    "\n",
    "scatter(freq, trans)\n",
    "xlim(-1000,1000)\n",
    "xlabel(\"Frecuencia/Hz\")"
   ]
  },
  {
   "cell_type": "markdown",
   "metadata": {},
   "source": [
    "Ya que en este caso se busca hallar 2 frecuencias fundamentales, se utilizará primero el arreglo en el dominio de la frecuencia obtenido para determinar la primera frecuencia fundamental. Luego, se creará un nuevo arreglo donde se eliminen los máximos que definían esa frecuencia, de manera que los nuevos máximos sean los de la segunda frecuencia fundamental."
   ]
  },
  {
   "cell_type": "code",
   "execution_count": 147,
   "metadata": {
    "collapsed": true
   },
   "outputs": [],
   "source": [
    "#Para hallar la primera frecuencia fundamental, simplemente se busca la frecuencia asociada al máximo del\n",
    "#arreglo de datos transformados. Se utiliza el break para hacer más eficiente el proceso.\n",
    "frecuencia = []\n",
    "maximo = max(trans)\n",
    "for i in range(len(trans)):\n",
    "    if(trans[i] == maximo):\n",
    "        frecuencia.append(freq[i])\n",
    "        break"
   ]
  },
  {
   "cell_type": "code",
   "execution_count": 148,
   "metadata": {
    "collapsed": false
   },
   "outputs": [],
   "source": [
    "#Se crea un nuevo arreglo que ya no contenga los datos máximos asociados a la frecuencia fndamental ya hallada,\n",
    "#de manera que el nuevo máximo esté asociado a la segunda drecuencia fundamental.\n",
    "lim = 1.3*10**7 #Límite de corte\n",
    "nuevoArreglo2 = []\n",
    "newFreq2 = []\n",
    "for i in range(len(trans)):\n",
    "    if(trans[i] < lim):\n",
    "        nuevoArreglo2.append(trans[i])\n",
    "        newFreq2.append(freq[i])"
   ]
  },
  {
   "cell_type": "code",
   "execution_count": 149,
   "metadata": {
    "collapsed": false
   },
   "outputs": [],
   "source": [
    "#Similar a como se halló la primera frecuencia fundamental, se halla la segunda asociando una frecuencia a el máximo\n",
    "#del arreglo de datos transformados. Esta y la anterior se guardan en el arreglo frecuencia.\n",
    "maximo2 = max(nuevoArreglo2)\n",
    "for i in range(len(nuevoArreglo2)):\n",
    "    if(nuevoArreglo2[i] == maximo2):\n",
    "        frecuencia.append(newFreq2[i])\n",
    "        break"
   ]
  },
  {
   "cell_type": "code",
   "execution_count": 153,
   "metadata": {
    "collapsed": false
   },
   "outputs": [
    {
     "name": "stdout",
     "output_type": "stream",
     "text": [
      "Las frecuencias fundamentales son: 496.149855756 Hz y 97.8785902212 Hz\n"
     ]
    }
   ],
   "source": [
    "print(\"Las frecuencias fundamentales son: \" + str(frecuencia[0]) + \" Hz y \" + str(frecuencia[1]) + \" Hz\")"
   ]
  },
  {
   "cell_type": "markdown",
   "metadata": {},
   "source": [
    "####Segundo Pulso"
   ]
  },
  {
   "cell_type": "code",
   "execution_count": 157,
   "metadata": {
    "collapsed": false
   },
   "outputs": [
    {
     "data": {
      "text/plain": [
       "<matplotlib.text.Text at 0x11260ceb8>"
      ]
     },
     "execution_count": 157,
     "metadata": {},
     "output_type": "execute_result"
    },
    {
     "data": {
      "image/png": "[encoded data removed]",
      "text/plain": [
       "<matplotlib.figure.Figure at 0x10dfd0128>"
      ]
     },
     "metadata": {},
     "output_type": "display_data"
    }
   ],
   "source": [
    "group2 = arregloMusical[N/2:-1]\n",
    "time2 = tiempo[N/2:-1]\n",
    "plot(time2, group2)\n",
    "xlabel(\"Tiempo/s\")"
   ]
  },
  {
   "cell_type": "code",
   "execution_count": 158,
   "metadata": {
    "collapsed": false
   },
   "outputs": [
    {
     "data": {
      "text/plain": [
       "<matplotlib.text.Text at 0x114db9828>"
      ]
     },
     "execution_count": 158,
     "metadata": {},
     "output_type": "execute_result"
    },
    {
     "data": {
      "image/png": "[encoded data removed]",
      "text/plain": [
       "<matplotlib.figure.Figure at 0x114dbb390>"
      ]
     },
     "metadata": {},
     "output_type": "display_data"
    }
   ],
   "source": [
    "trans2 = fourier(group2)[1] #Los datos transformados por la función fourier()\n",
    "freq2 = fourier(group2)[0] #Las frecuencias asociadas.\n",
    "\n",
    "maximoB = max(trans2) #El máximo valor de las transformadas.\n",
    "#Se necesita este valor pues será la frecuencia fundamental la que tendrá asociado este valor, por lo que es un\n",
    "#estimador para hallarla.\n",
    "\n",
    "#Este procedimiento permite buscar la frecuencia que tiene asociado el valor máximo de los valores\n",
    "#transformados. Se utiliza el comando break debido a que el archivo puede llegar a tener una extensión que\n",
    "#demore mucho el ciclo, por lo que se busca terminarlo apenas se determine la frecuencia fundamental.\n",
    "#Hallar primer máximo\n",
    "for i in range(len(trans2)):\n",
    "    if(trans2[i] == maximoB):\n",
    "        frecuencias.append(abs(freq2[i]))\n",
    "        break\n",
    "\n",
    "scatter(freq2, trans2)\n",
    "xlim(-1000,1000)\n",
    "xlabel(\"Frecuencia/Hz\")"
   ]
  },
  {
   "cell_type": "code",
   "execution_count": 163,
   "metadata": {
    "collapsed": true
   },
   "outputs": [],
   "source": [
    "#Para hallar la primera frecuencia fundamental, simplemente se busca la frecuencia asociada al máximo del\n",
    "#arreglo de datos transformados. Se utiliza el break para hacer más eficiente el proceso.\n",
    "frecuencias = []\n",
    "maximoQ = max(trans2)\n",
    "for i in range(len(trans2)):\n",
    "    if(trans2[i] == maximoQ):\n",
    "        frecuencias.append(freq2[i])\n",
    "        break"
   ]
  },
  {
   "cell_type": "code",
   "execution_count": 165,
   "metadata": {
    "collapsed": true
   },
   "outputs": [],
   "source": [
    "lim = 1.5*10**7 #Límite de corte\n",
    "nuevoArreglo2 = []\n",
    "newFreq2 = []\n",
    "for i in range(len(trans2)):\n",
    "    if(trans2[i] < lim):\n",
    "        nuevoArreglo2.append(trans2[i])\n",
    "        newFreq2.append(freq2[i])"
   ]
  },
  {
   "cell_type": "code",
   "execution_count": 166,
   "metadata": {
    "collapsed": true
   },
   "outputs": [],
   "source": [
    "maximo2 = max(nuevoArreglo2)\n",
    "for i in range(len(nuevoArreglo2)):\n",
    "    if(nuevoArreglo2[i] == maximo2):\n",
    "        frecuencias.append(newFreq2[i])\n",
    "        break"
   ]
  },
  {
   "cell_type": "code",
   "execution_count": 169,
   "metadata": {
    "collapsed": false
   },
   "outputs": [
    {
     "name": "stdout",
     "output_type": "stream",
     "text": [
      "Las frecuencias fundamentales son: 370.666106325Hz y 295.567608741 Hz\n"
     ]
    }
   ],
   "source": [
    "print(\"Las frecuencias fundamentales son: \" + str(frecuencias[0]) + \"Hz y \" + str(frecuencias[1]) + \" Hz\")"
   ]
  },
  {
   "cell_type": "markdown",
   "metadata": {},
   "source": [
    "##Análisis de Fourier/Filtrado de Frecuencias"
   ]
  },
  {
   "cell_type": "markdown",
   "metadata": {},
   "source": [
    "Para realizar el filtrado, visualizan primero las frecuencias contenidas en el archivo analizado."
   ]
  },
  {
   "cell_type": "code",
   "execution_count": null,
   "metadata": {
    "collapsed": true
   },
   "outputs": [],
   "source": []
  }
 ],
 "metadata": {
  "kernelspec": {
   "display_name": "Python 3",
   "language": "python",
   "name": "python3"
  },
  "language_info": {
   "codemirror_mode": {
    "name": "ipython",
    "version": 3
   },
   "file_extension": ".py",
   "mimetype": "text/x-python",
   "name": "python",
   "nbconvert_exporter": "python",
   "pygments_lexer": "ipython3",
   "version": "3.4.3"
  }
 },
 "nbformat": 4,
 "nbformat_minor": 0
}
