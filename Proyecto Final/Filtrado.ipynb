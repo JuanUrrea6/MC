{
 "cells": [
  {
   "cell_type": "code",
   "execution_count": 2,
   "metadata": {
    "collapsed": false
   },
   "outputs": [
    {
     "name": "stdout",
     "output_type": "stream",
     "text": [
      "Populating the interactive namespace from numpy and matplotlib\n"
     ]
    }
   ],
   "source": [
    "%pylab inline\n",
    "from scipy.fftpack import *\n",
    "from scipy.io.wavfile import *"
   ]
  },
  {
   "cell_type": "markdown",
   "metadata": {},
   "source": [
    "Se busca tomar una señal y descomponerla en sus frecuencias fundamentales."
   ]
  },
  {
   "cell_type": "markdown",
   "metadata": {},
   "source": [
    "##Tratamiento de Archivos"
   ]
  },
  {
   "cell_type": "code",
   "execution_count": 3,
   "metadata": {
    "collapsed": true
   },
   "outputs": [],
   "source": [
    "#Algunas constantes que serán modificadas por las funciones.\n",
    "t = []"
   ]
  },
  {
   "cell_type": "code",
   "execution_count": 157,
   "metadata": {
    "collapsed": true
   },
   "outputs": [],
   "source": [
    "#Nombre: Leer\n",
    "#Parámetros: archivo- El nombre completo del archivo, junto con la extensión .wav.\n",
    "#Parámetros: graficar- Booleano. De ser True, grafica los datos obtenidos del archivo importado.\n",
    "#Este método importa un archivo escrito como .wav, para luego retornar un arreglo que contiene todos los datos\n",
    "#contenidos en dicho archivo y la frecuencia de samplin del archivo .wav.\n",
    "def leer(archivo):\n",
    "    global t\n",
    "    datosGeneral = read(archivo)\n",
    "    original = datosGeneral[1]\n",
    "    sampling = datosGeneral[0]\n",
    "    return array([original, sampling])"
   ]
  },
  {
   "cell_type": "code",
   "execution_count": 158,
   "metadata": {
    "collapsed": true
   },
   "outputs": [],
   "source": [
    "#Nombre: Fourier\n",
    "#Parámetros: archivo- El nombre del archivo generado por la función Leer.\n",
    "#Parámetros: graficar- Booleano que, de ser True, permite a la función graficar la transformada de Fourier realizada\n",
    "#Este método recibe un archivo que contiene los datos de un .wav y retorna un arreglo de dos elementos:\n",
    "#el primero es la transformada discreta de Fourier y el segundo son las frecuencias asociadas.\n",
    "def fourier(archivo):\n",
    "    transformada = fft(archivo)\n",
    "    N = len(archivo)\n",
    "    dt = (archivo[-1] - archivo[0])/N\n",
    "    frecuencias = fftfreq(N,dt)\n",
    "    final = array([frecuencias, abs(transformada)])\n",
    "    return final"
   ]
  },
  {
   "cell_type": "code",
   "execution_count": 159,
   "metadata": {
    "collapsed": true
   },
   "outputs": [],
   "source": [
    "#Nombre: Filtro\n",
    "#Parámetros: transformada- Arreglo de datos correspondiente a la transformada de Fourier de un archivo\n",
    "#de sonido.\n",
    "#Parámetros: frecuencias- Arreglo de las frecuencias asociadas a esa misma transformada de Fourier.\n",
    "#Esta función permite filtrar por la frecuencia máxima un arreglo en el dominio de la frecuencia, obtenido\n",
    "#como la transformada de Fourier.\n",
    "def filtro(transformada, frecuencias):\n",
    "    global t\n",
    "    transformada[frecuencias != max(frecuencias)] = 0 #El filtrado\n",
    "    nuevos = ifft(transformada)\n",
    "    return nuevos"
   ]
  },
  {
   "cell_type": "markdown",
   "metadata": {},
   "source": [
    "##Pruebas"
   ]
  },
  {
   "cell_type": "code",
   "execution_count": 165,
   "metadata": {
    "collapsed": false
   },
   "outputs": [
    {
     "name": "stderr",
     "output_type": "stream",
     "text": [
      "/Users/usuario/anaconda/lib/python3.4/site-packages/scipy/io/wavfile.py:172: WavFileWarning: Chunk (non-data) not understood, skipping it.\n",
      "  WavFileWarning)\n"
     ]
    },
    {
     "data": {
      "text/plain": [
       "44100"
      ]
     },
     "execution_count": 165,
     "metadata": {},
     "output_type": "execute_result"
    },
    {
     "data": {
      "image/png": "[encoded data removed]",
      "text/plain": [
       "<matplotlib.figure.Figure at 0x144fcae48>"
      ]
     },
     "metadata": {},
     "output_type": "display_data"
    }
   ],
   "source": [
    "#Leer el archivo .wav\n",
    "prueba1 = read(\"laPrueba.wav\")\n",
    "plot(prueba1[1])\n",
    "xlim(0,100)\n",
    "prueba1[0]"
   ]
  },
  {
   "cell_type": "code",
   "execution_count": 182,
   "metadata": {
    "collapsed": false
   },
   "outputs": [
    {
     "name": "stdout",
     "output_type": "stream",
     "text": [
      "440.0\n"
     ]
    },
    {
     "data": {
      "image/png": "[encoded data removed]",
      "text/plain": [
       "<matplotlib.figure.Figure at 0x144fd6710>"
      ]
     },
     "metadata": {},
     "output_type": "display_data"
    }
   ],
   "source": [
    "#prueba2 = fourier(prueba1)\n",
    "#scatter(prueba2[0], prueba2[1])\n",
    "#max(prueba2[0])\n",
    "dt = 1/prueba1[0]\n",
    "\n",
    "trans = fft(prueba1[1])\n",
    "absolute = abs(trans)\n",
    "maximo = max(absolute)\n",
    "freq = fftfreq(N,dt)\n",
    "\n",
    "scatter(freq, absolute)\n",
    "xlim(-1000,1000)\n",
    "\n",
    "for i in range(len(absolute)):\n",
    "    if(absolute[i] == maximo):\n",
    "        print(freq[i])\n",
    "        break"
   ]
  },
  {
   "cell_type": "code",
   "execution_count": 172,
   "metadata": {
    "collapsed": false
   },
   "outputs": [],
   "source": [
    "trans[abs(freq) != max(freq)] = 0"
   ]
  },
  {
   "cell_type": "markdown",
   "metadata": {},
   "source": [
    "Tomar el archivo importado y realizar la transformada de Fourier. Esto para dejar los datos en el dominio de la frecuencia y poder realizar el filtro. Luego de tenerlos así, se construirán los arreglos que permiten su visualización gráfica y análisis."
   ]
  },
  {
   "cell_type": "markdown",
   "metadata": {},
   "source": [
    "##Análisis de Fourier/Filtrado de Frecuencias"
   ]
  },
  {
   "cell_type": "markdown",
   "metadata": {},
   "source": [
    "Para realizar el filtrado, visualizan primero las frecuencias contenidas en el archivo analizado."
   ]
  },
  {
   "cell_type": "code",
   "execution_count": null,
   "metadata": {
    "collapsed": true
   },
   "outputs": [],
   "source": []
  }
 ],
 "metadata": {
  "kernelspec": {
   "display_name": "Python 3",
   "language": "python",
   "name": "python3"
  }
 },
 "nbformat": 4,
 "nbformat_minor": 0
}
