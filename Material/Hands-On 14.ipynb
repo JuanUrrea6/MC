{
 "cells": [
  {
   "cell_type": "code",
   "execution_count": 1,
   "metadata": {
    "collapsed": false
   },
   "outputs": [
    {
     "name": "stdout",
     "output_type": "stream",
     "text": [
      "Populating the interactive namespace from numpy and matplotlib\n"
     ]
    }
   ],
   "source": [
    "%pylab inline\n",
    "from random import *"
   ]
  },
  {
   "cell_type": "code",
   "execution_count": 6,
   "metadata": {
    "collapsed": false
   },
   "outputs": [],
   "source": [
    "#Función para determinar la probabilidad buscada.\n",
    "#Parámetro: N=número de colombianos en la mesa.\n",
    "def proba(N):\n",
    "    exitos = 0 #Cantidad de Exitos\n",
    "    laMesa = [] #Mi mesa vacía.\n",
    "    for __ in range(N+10): #Llenar la mesa de puestos. 0 es colombiano.\n",
    "        laMesa.append(0)\n",
    "    for i in range(10): #LLenar los demás puestos. 1 es Peruano.\n",
    "        laMesa[i]=1\n",
    "    shuffle(laMesa)\n",
    "    \n",
    "    i=1\n",
    "    while i < len(laMesa)-1:\n",
    "        if((laMesa[i] == 1) & (laMesa[i+1] == 0) & (laMesa[i-1] == 0)):\n",
    "            exitos+=1\n",
    "        i+=1\n",
    "        \n",
    "    if((laMesa[0] == 1) & (laMesa[1] == 0) & (laMesa[-1] == 0)):\n",
    "            exitos+=1\n",
    "    if((laMesa[-1]== 1) & (laMesa[len(laMesa)-2] == 0) & (laMesa[0] == 0)):\n",
    "            exitos += 1\n",
    "    return exitos/10"
   ]
  },
  {
   "cell_type": "code",
   "execution_count": 18,
   "metadata": {
    "collapsed": false
   },
   "outputs": [],
   "source": [
    "proba1 = []\n",
    "proba2 = []\n",
    "proba3 = []\n",
    "proba4 = []\n",
    "proba5 = []\n",
    "proba6 = []\n",
    "proba7 = []\n",
    "proba8 = []\n",
    "proba9 = []\n",
    "proba10 = []\n",
    "proba11 = []\n",
    "proba12 = []\n",
    "proba13 = []\n",
    "proba14 = []\n",
    "proba15 = []\n",
    "proba16 = []\n",
    "proba17 = []\n",
    "proba18 = []\n",
    "proba19 = []\n",
    "proba20 = []\n",
    "proba21 = []\n",
    "proba22 = []\n",
    "proba23 = []\n",
    "proba24 = []\n",
    "proba25 = []\n",
    "proba26 = []\n",
    "proba27 = []\n",
    "proba28 = []\n",
    "proba29 = []\n",
    "proba30 = []\n",
    "proba31 = []\n",
    "proba32 = []\n",
    "proba33 = []\n",
    "proba34 = []\n",
    "proba35 = []\n",
    "proba36 = []\n",
    "proba37 = []\n",
    "proba38 = []\n",
    "proba39 = []\n",
    "proba40 = []\n",
    "proba41 = []\n",
    "proba42 = []\n",
    "proba43 = []\n",
    "proba44 = []\n",
    "proba45 = []\n",
    "proba46 = []\n",
    "proba47 = []\n",
    "proba48 = []\n",
    "proba49 = []\n",
    "proba50 = []\n",
    "for __ in range(1000):\n",
    "    proba1.append(proba(1))\n",
    "    proba2.append(proba(2))\n",
    "    proba3.append(proba(3))\n",
    "    proba4.append(proba(4))\n",
    "    proba5.append(proba(5))\n",
    "    proba6.append(proba(6))\n",
    "    proba7.append(proba(7))\n",
    "    proba8.append(proba(8))\n",
    "    proba9.append(proba(9))\n",
    "    proba10.append(proba(10))\n",
    "    proba11.append(proba(11))\n",
    "    proba12.append(proba(12))\n",
    "    proba13.append(proba(13))\n",
    "    proba14.append(proba(14))\n",
    "    proba15.append(proba(15))\n",
    "    proba16.append(proba(16))\n",
    "    proba17.append(proba(17))\n",
    "    proba18.append(proba(18))\n",
    "    proba19.append(proba(19))\n",
    "    proba20.append(proba(20))\n",
    "    proba21.append(proba(21))\n",
    "    proba22.append(proba(22))\n",
    "    proba23.append(proba(23))\n",
    "    proba24.append(proba(24))\n",
    "    proba25.append(proba(25))\n",
    "    proba26.append(proba(26))\n",
    "    proba27.append(proba(27))\n",
    "    proba28.append(proba(28))\n",
    "    proba29.append(proba(29))\n",
    "    proba30.append(proba(30))\n",
    "    proba31.append(proba(31))\n",
    "    proba32.append(proba(32))\n",
    "    proba33.append(proba(33))\n",
    "    proba34.append(proba(34))\n",
    "    proba35.append(proba(35))\n",
    "    proba36.append(proba(36))\n",
    "    proba37.append(proba(37))\n",
    "    proba38.append(proba(38))\n",
    "    proba39.append(proba(39))\n",
    "    proba40.append(proba(40))\n",
    "    proba41.append(proba(41))\n",
    "    proba42.append(proba(42))\n",
    "    proba43.append(proba(43))\n",
    "    proba44.append(proba(44))\n",
    "    proba45.append(proba(45))\n",
    "    proba46.append(proba(46))\n",
    "    proba47.append(proba(47))\n",
    "    proba48.append(proba(48))\n",
    "    proba49.append(proba(49))\n",
    "    proba50.append(proba(50))"
   ]
  },
  {
   "cell_type": "code",
   "execution_count": 19,
   "metadata": {
    "collapsed": false
   },
   "outputs": [],
   "source": [
    "lasMedia = []\n",
    "lasMedia.append(mean(proba1))\n",
    "lasMedia.append(mean(proba2))\n",
    "lasMedia.append(mean(proba3))\n",
    "lasMedia.append(mean(proba4))\n",
    "lasMedia.append(mean(proba5))\n",
    "lasMedia.append(mean(proba6))\n",
    "lasMedia.append(mean(proba7))\n",
    "lasMedia.append(mean(proba8))\n",
    "lasMedia.append(mean(proba9))\n",
    "lasMedia.append(mean(proba10))\n",
    "lasMedia.append(mean(proba11))\n",
    "lasMedia.append(mean(proba12))\n",
    "lasMedia.append(mean(proba13))\n",
    "lasMedia.append(mean(proba14))\n",
    "lasMedia.append(mean(proba15))\n",
    "lasMedia.append(mean(proba16))\n",
    "lasMedia.append(mean(proba17))\n",
    "lasMedia.append(mean(proba18))\n",
    "lasMedia.append(mean(proba19))\n",
    "lasMedia.append(mean(proba20))\n",
    "lasMedia.append(mean(proba21))\n",
    "lasMedia.append(mean(proba22))\n",
    "lasMedia.append(mean(proba23))\n",
    "lasMedia.append(mean(proba24))\n",
    "lasMedia.append(mean(proba25))\n",
    "lasMedia.append(mean(proba26))\n",
    "lasMedia.append(mean(proba27))\n",
    "lasMedia.append(mean(proba28))\n",
    "lasMedia.append(mean(proba29))\n",
    "lasMedia.append(mean(proba30))\n",
    "lasMedia.append(mean(proba31))\n",
    "lasMedia.append(mean(proba32))\n",
    "lasMedia.append(mean(proba33))\n",
    "lasMedia.append(mean(proba34))\n",
    "lasMedia.append(mean(proba35))\n",
    "lasMedia.append(mean(proba36))\n",
    "lasMedia.append(mean(proba37))\n",
    "lasMedia.append(mean(proba38))\n",
    "lasMedia.append(mean(proba39))\n",
    "lasMedia.append(mean(proba40))\n",
    "lasMedia.append(mean(proba41))\n",
    "lasMedia.append(mean(proba42))\n",
    "lasMedia.append(mean(proba43))\n",
    "lasMedia.append(mean(proba44))\n",
    "lasMedia.append(mean(proba45))\n",
    "lasMedia.append(mean(proba46))\n",
    "lasMedia.append(mean(proba47))\n",
    "lasMedia.append(mean(proba48))\n",
    "lasMedia.append(mean(proba49))\n",
    "lasMedia.append(mean(proba50))"
   ]
  },
  {
   "cell_type": "code",
   "execution_count": 22,
   "metadata": {
    "collapsed": true
   },
   "outputs": [],
   "source": [
    "#Los distintos N\n",
    "losN = []\n",
    "p = 1\n",
    "while p <=50:\n",
    "    losN.append(p)\n",
    "    p+=1"
   ]
  },
  {
   "cell_type": "code",
   "execution_count": 35,
   "metadata": {
    "collapsed": false
   },
   "outputs": [
    {
     "data": {
      "image/png": "[encoded data removed]",
      "text/plain": [
       "<matplotlib.figure.Figure at 0x106585d68>"
      ]
     },
     "metadata": {},
     "output_type": "display_data"
    }
   ],
   "source": [
    "scatter(losN, lasMedia, label = \"Empírica\")\n",
    "ylabel(\"Probabilidad de estar rodeado\")\n",
    "xlabel(\"Colombianos\")\n",
    "title(\"Mi pequeño experimento\")\n",
    "legend(bbox_to_anchor=(1, 0.7))\n",
    "xlim(0, 50)\n",
    "ylim(0,0.8)\n",
    "#savefig(\"DatosObtenidos.png\")"
   ]
  },
  {
   "cell_type": "code",
   "execution_count": null,
   "metadata": {
    "collapsed": true
   },
   "outputs": [],
   "source": []
  }
 ],
 "metadata": {
  "kernelspec": {
   "display_name": "Python 3",
   "language": "python",
   "name": "python3"
  },
  "language_info": {
   "codemirror_mode": {
    "name": "ipython",
    "version": 3
   },
   "file_extension": ".py",
   "mimetype": "text/x-python",
   "name": "python",
   "nbconvert_exporter": "python",
   "pygments_lexer": "ipython3",
   "version": "3.4.3"
  }
 },
 "nbformat": 4,
 "nbformat_minor": 0
}
